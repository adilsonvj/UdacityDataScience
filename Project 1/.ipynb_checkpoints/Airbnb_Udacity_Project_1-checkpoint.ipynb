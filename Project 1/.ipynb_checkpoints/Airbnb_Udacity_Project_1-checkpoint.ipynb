{
 "cells": [
  {
   "cell_type": "markdown",
   "metadata": {
    "colab": {
     "base_uri": "https://localhost:8080/"
    },
    "id": "UfNiCtmvkae3",
    "outputId": "33807088-4848-47d0-ca61-0c4e100d4abd"
   },
   "source": [
    "# Business Understanding"
   ]
  },
  {
   "cell_type": "markdown",
   "metadata": {},
   "source": [
    "Have you wondered how much that a good kitchen can change everything in your trip? Or even a present host who will answer your questions on time, a good number of host verifications to give you security, and have some really good amenities? \n",
    "\n",
    "In this project, I extracted from Inside Airbnb, http://insideairbnb.com/get-the-data.html, all listings from Rio de Janeiro of November 2020. The goal is to analyze which characteristics and features are more related to the price and the quality of a place. \n",
    "\n",
    "For those who want to improve their space to receive future hosts, or even travelers searching for a place to be in Rio de Janeiro, these results would help you a lot!!\n",
    "\n",
    "In the beginning, we will do the preprocessing in the data to be useful for us, also handling the null values and columns. With the usable data, we will see the correlations of our target features and some of the group of features, doing some small analysis in it, in the end, we will train an Xgboost regression model and see which features are more important to our targets.\n",
    "\n",
    "## Some of the business questions that we want to answer in the end is:\n",
    "\n",
    "### Are the amenities important for the host experience? If yes, which amenities are the most? Are these amenities correlated with the price?\n",
    "\n",
    "### Is the host a fundamental factor for the host experience? If yes, what can a host do to improve their services?\n",
    "\n",
    "### Is the neighborhood important for the price? If yes, which one is the most expensive? Are they correlated with the users' experience?\n",
    "\n",
    "### Which feature influences more the price? And the review scores?\n"
   ]
  },
  {
   "cell_type": "code",
   "execution_count": 3,
   "metadata": {
    "id": "r9xYtQI8kLK0"
   },
   "outputs": [],
   "source": [
    "import matplotlib.pyplot as plt\n",
    "import seaborn as sns\n",
    "import pandas as pd\n",
    "import numpy as np\n",
    "import calendar\n",
    "\n",
    "from datetime import datetime\n",
    "from datetime import date\n",
    "\n",
    "pd.set_option(\"max_columns\", None)\n",
    "\n",
    "def df_shape(df):\n",
    "    '''\n",
    "        Inputs:\n",
    "            - df : Dataframe \n",
    "        Outputs:\n",
    "            - Print with dataframe shape values\n",
    "        Description:\n",
    "            Print the shape of the dataframe\n",
    "    '''\n",
    "    \n",
    "    # Return dataframe shape\n",
    "    return print(\"Number of instances:\\t\", df.shape[0], \"\\nNumber of features:\\t\", df.shape[1])\n",
    "\n",
    "\n",
    "def convert_list_to_datetime(df, column_list, format_type = \"%Y-%m-%d\"):\n",
    "    '''\n",
    "        Inputs:\n",
    "            - df : Dataframe to modify columns to datetime type\n",
    "            - column_list : List of columns to do the change\n",
    "            - format_type : String format of the datetime\n",
    "        Outputs:\n",
    "            - df : Dataframe with columns already modified\n",
    "        Description:\n",
    "            For each column passed by the list transform the column in the dataframe\n",
    "            as pandas datetime type.\n",
    "    '''\n",
    "    \n",
    "    # For each column in the list apply the convertion to datetime\n",
    "    for col_name in column_list:\n",
    "        listings[col_name] = pd.to_datetime(listings[col_name], format = format_type)\n",
    "    \n",
    "    # Return dataframe\n",
    "    return df\n",
    "\n",
    "\n",
    "def get_host_since_days(x):\n",
    "    '''\n",
    "        Inputs:\n",
    "            - x : Date \n",
    "        Outputs:\n",
    "            - x : Difference of days between \"2021-01-01\" and the date received\n",
    "        Description:\n",
    "            Get the difference of day between the day and a future day\n",
    "    '''\n",
    "    \n",
    "    # Apply difference between a future date\n",
    "    x = pd.to_datetime(\"2021-01-01\", format = \"%Y-%m-%d\") - x\n",
    "    \n",
    "    # Transform to days\n",
    "    x = x.days\n",
    "    \n",
    "    # Return to the user\n",
    "    return x\n",
    "\n",
    "\n",
    "def correct_percentage(x):\n",
    "    '''\n",
    "        Inputs:\n",
    "            - x : String in the \"ff%\" format\n",
    "        Outputs:\n",
    "            - x : Integer with value between 0 and 100\n",
    "        Description:\n",
    "            Transform the percentage string in float \n",
    "    '''\n",
    "    \n",
    "    # Remove \"%\" symbol\n",
    "    x = str(x).replace(\"%\", \"\")\n",
    "    \n",
    "    # Transform to float\n",
    "    x = float(x)\n",
    "    \n",
    "    # Return to user\n",
    "    return x\n",
    "\n",
    "\n",
    "def get_review_days(x):\n",
    "    '''\n",
    "        Inputs:\n",
    "            - x : Row with dates\n",
    "        Outputs:\n",
    "            - x : Days of listing receiving reviews\n",
    "        Description:\n",
    "            Get the difference of day between the last review and the first one\n",
    "    '''\n",
    "    \n",
    "    # Get difference\n",
    "    x = x[\"last_review\"] - x[\"first_review\"]\n",
    "    \n",
    "    # Transform to days\n",
    "    x = x.days\n",
    "    \n",
    "    # Return to user\n",
    "    return x\n",
    "\n",
    "\n",
    "def get_null_percent_df(df):\n",
    "    '''\n",
    "        Inputs:\n",
    "            - df : Dataframe to check null values\n",
    "        Outputs:\n",
    "            - df : Pandas Series with percentage of Null values per columns\n",
    "        Description:\n",
    "            Create a pandas series which will have the column and percentage of\n",
    "            null value per each one\n",
    "    '''\n",
    "    \n",
    "    # Get percentage of Null values per column\n",
    "    null_percent = df.isnull().sum() * 100 / df.shape[0]\n",
    "    \n",
    "    # Create pandas dataframe\n",
    "    null_percent_df = pd.DataFrame({\"null_percent\" : null_percent})\n",
    "    \n",
    "    # Sort dataframe to Descending order\n",
    "    null_percent_df = null_percent_df.sort_values(\"null_percent\", ascending = False)\n",
    "    \n",
    "    # Return to user\n",
    "    return null_percent_df\n",
    "\n",
    "\n",
    "def correct_price(x):\n",
    "    '''\n",
    "        Inputs:\n",
    "            - x : String with value\n",
    "        Outputs:\n",
    "            - x : Float number\n",
    "        Description:\n",
    "            Transform the string price in a float one\n",
    "    '''\n",
    "    \n",
    "    # Remove \"$\" sign\n",
    "    x = x.replace(\"$\", \"\")\n",
    "    \n",
    "    # Remove comma\n",
    "    x = x.replace(\",\", \"\")\n",
    "    \n",
    "    # Tansform to float\n",
    "    x = float(x)\n",
    "    \n",
    "    # Return value\n",
    "    return x\n",
    "\n",
    "\n",
    "def remove_null_columns(df, threshold):\n",
    "    '''\n",
    "        Inputs:\n",
    "            - df : Dataframe \n",
    "            - threshold : Minimum percentage of null values per column to remove the column\n",
    "        Outputs:\n",
    "            - df : Dataframe without columns that has more than a threshold of null values \n",
    "        Description:\n",
    "            Remove the columns which have the percentage of null value more than a threshold\n",
    "    '''\n",
    "    \n",
    "    # Bool list of columns that has less than a threshold percentage of null values\n",
    "    bool_columns_list = list((df.isnull().sum() / df.shape[0])  <= threshold)\n",
    "\n",
    "    # Get column list of columns with less null values than threshold\n",
    "    columns_to_use_list = df.columns[bool_columns_list]\n",
    "\n",
    "    # Get dataframe with the columns with less null values than threshold\n",
    "    df = df[columns_to_use_list]\n",
    "    \n",
    "    # Return dataframe\n",
    "    return df\n",
    "\n",
    "\n",
    "def bool_to_int(x):\n",
    "    '''\n",
    "        Inputs:\n",
    "            - x : String with f/t/nan\n",
    "        Outputs:\n",
    "            - 1 for t or 0 for f/nan\n",
    "        Description:\n",
    "            Transform the bool string t/f to real bools with True/False\n",
    "    '''\n",
    "    \n",
    "    if x == \"t\":\n",
    "        return 1\n",
    "    else:\n",
    "        return 0\n",
    "\n",
    "def string_to_list(x):\n",
    "    '''\n",
    "        Inputs:\n",
    "            - x : String in format of a list\n",
    "        Outputs:\n",
    "            - x : List\n",
    "        Description:\n",
    "            Transform a string in a list of items\n",
    "    '''\n",
    "    x = x.replace(\" \", \"\")\n",
    "    x = x.replace(\"'\", \"\")\n",
    "    x = x.replace(\"[\", \"\")\n",
    "    x = x.replace(\"]\", \"\")\n",
    "    x = x.split(\",\")\n",
    "    return x\n",
    "\n",
    "def count_item(x):\n",
    "    '''\n",
    "        Inputs: \n",
    "            - x : List\n",
    "        Output:\n",
    "            - Integer with the length of the list\n",
    "        Description:\n",
    "            Return the number of items in the list\n",
    "    '''\n",
    "    if 'None' in x:\n",
    "        return 0\n",
    "    elif '' in x:\n",
    "        return 0\n",
    "    else:\n",
    "        return len(x)\n",
    "    \n",
    "def create_bool_lists(x, list_of_items):\n",
    "    '''\n",
    "        Inputs:\n",
    "            - x : List which we want to compare\n",
    "            - list_of_items : \n",
    "        Outputs:\n",
    "            - temp_list : List with 1/0, showing which values are presented from a certain list\n",
    "        Description:\n",
    "            Create a bool list based on the intersection of items between two list,\n",
    "            for the items contained in both, 1, for the items only in the second list, 0.\n",
    "    '''\n",
    "    temp_list = []\n",
    "    for item in list_of_items:\n",
    "        if item in x:\n",
    "            temp_list.append(1)\n",
    "        else:\n",
    "            temp_list.append(0)\n",
    "    return temp_list\n",
    "\n",
    "\n",
    "def create_bool_dataframe(df, feature):\n",
    "    '''\n",
    "        Inputs:\n",
    "            - df : Dataframe which will get the column to be transformed\n",
    "            - feature : Feature that will be transformed in bool\n",
    "        Outputs:\n",
    "            - item_df : Bool dataframe showing if an item is presented in a certain list\n",
    "        Description:\n",
    "            Create a dataframe with the bool lists being the rows.\n",
    "    '''\n",
    "    # Get Unique possible values for this feature\n",
    "    item_types = list(set([item for list_item in df[feature] for item in list_item]))\n",
    "\n",
    "    # Create hot vector encoding for each list\n",
    "    item_hot_vec = df.apply(lambda x: create_bool_lists(x[feature], item_types), axis = 1)\n",
    "\n",
    "    # Correct first item in the list of unique values\n",
    "    item_types = [\"no_\"+str(feature)] + item_types[1::]\n",
    "\n",
    "    # Create dataframe with right columns and the encoding\n",
    "    item_df = pd.DataFrame.from_records(item_hot_vec, columns = item_types)\n",
    "    \n",
    "    # Return for user\n",
    "    return item_df\n",
    "\n",
    "def sort_corr_feature(corr_matrix, feature, features_to_drop):\n",
    "    '''\n",
    "        Inputs:\n",
    "            - corr_matrix : Correlation matrix\n",
    "            - feature : Feature in analysis\n",
    "            - features_to_drop : List of features to drop\n",
    "        Outputs:\n",
    "            - sorted_corr : Pandas series with correlations of a single feature\n",
    "        Description:\n",
    "            Get the absolute top correlations of a single feature from a correlation matrix.\n",
    "    '''\n",
    "    # Sort the absolute values of the correlations of a single feature n analysis\n",
    "    new_index_corr = corr_matrix[feature].abs().sort_values(ascending = False).index\n",
    "    \n",
    "    # Reindex series\n",
    "    sorted_corr = corr_matrix[feature].reindex(new_index_corr)\n",
    "    \n",
    "    # Drop features not important\n",
    "    sorted_corr.drop(features_to_drop, axis = 0, inplace = True)\n",
    "    \n",
    "    # Return sorted pandas series\n",
    "    return sorted_corr\n",
    "\n",
    "\n",
    "def plot_top_corr_y_features(corr_matrix, y_features, head_value = None, palette_bar = \"flare\"\n",
    "                             , plot_height = 10, plot_length = 10):\n",
    "    '''\n",
    "        Inputs:\n",
    "            - corr_matrix : Correlation matrix\n",
    "            - y_features : Features in analysis\n",
    "            - head_value : Maximum number of correlations to show per feature\n",
    "            - palette_bar : Color of the graph\n",
    "            - plot_height : Height of the plot image\n",
    "            - plot_length : Length of the plot image\n",
    "        Outputs:\n",
    "            - Plot of the top correlation for features presented in y_features\n",
    "        Description:\n",
    "            Plot the top correlations from a list of features from a correlation matrix\n",
    "    '''\n",
    "    \n",
    "    # Set figure and axis configurations\n",
    "    fig, axs = plt.subplots(len(y_features), figsize = (plot_height, plot_length))\n",
    "    \n",
    "    # For each feature in analysis do the plot\n",
    "    for i in range(len(y_features)):\n",
    "        \n",
    "        # Take the feature\n",
    "        feature_to_use = y_features[i]\n",
    "        \n",
    "        # Get correlational pandas series for the feature\n",
    "        sorted_corr = sort_corr_feature(corr_matrix, feature = feature_to_use\n",
    "                                                                , features_to_drop = y_features)\n",
    "        \n",
    "        # If head_value passed by user, set the head\n",
    "        if head_value != None:\n",
    "            sorted_corr = sorted_corr.head(head_value)\n",
    "        \n",
    "        # Create seaborn bar plot\n",
    "        sns.barplot(x = sorted_corr.values, y = sorted_corr.index, ax = axs[i]\n",
    "                                                                , orient = \"h\", palette = palette_bar)\n",
    "        # Set title\n",
    "        axs[i].set_title(\"Top correlations for \"+ feature_to_use, fontsize = 20) \n",
    "        \n",
    "def amenities_to_list(x):\n",
    "    '''\n",
    "        Inputs:\n",
    "            - x : String in format of a list\n",
    "        Outputs:\n",
    "            - x : List\n",
    "        Description:\n",
    "            Transform a string in a list \n",
    "    '''\n",
    "    x = str(x)\n",
    "    x = x.replace(\" \", \"\")\n",
    "    x = x.replace('\"', '')\n",
    "    x = x.replace(\"'\", \"\")\n",
    "    x = x.replace(\"[\", \"\")\n",
    "    x = x.replace(\"]\", \"\")\n",
    "    x = x.split(\",\")\n",
    "    return x"
   ]
  },
  {
   "cell_type": "markdown",
   "metadata": {
    "id": "R5_Ptp96kLK5"
   },
   "source": [
    "## Airbnb Listings dataset"
   ]
  },
  {
   "cell_type": "markdown",
   "metadata": {},
   "source": [
    "First, let's see our data."
   ]
  },
  {
   "cell_type": "code",
   "execution_count": 144,
   "metadata": {
    "colab": {
     "base_uri": "https://localhost:8080/",
     "height": 358
    },
    "id": "cdvVphQQkLK5",
    "outputId": "fefe1c44-4007-4fd1-9b19-d4350f7f099f"
   },
   "outputs": [
    {
     "data": {
      "text/html": [
       "<div>\n",
       "<style scoped>\n",
       "    .dataframe tbody tr th:only-of-type {\n",
       "        vertical-align: middle;\n",
       "    }\n",
       "\n",
       "    .dataframe tbody tr th {\n",
       "        vertical-align: top;\n",
       "    }\n",
       "\n",
       "    .dataframe thead th {\n",
       "        text-align: right;\n",
       "    }\n",
       "</style>\n",
       "<table border=\"1\" class=\"dataframe\">\n",
       "  <thead>\n",
       "    <tr style=\"text-align: right;\">\n",
       "      <th></th>\n",
       "      <th>id</th>\n",
       "      <th>listing_url</th>\n",
       "      <th>scrape_id</th>\n",
       "      <th>last_scraped</th>\n",
       "      <th>name</th>\n",
       "      <th>description</th>\n",
       "      <th>neighborhood_overview</th>\n",
       "      <th>picture_url</th>\n",
       "      <th>host_id</th>\n",
       "      <th>host_url</th>\n",
       "      <th>host_name</th>\n",
       "      <th>host_since</th>\n",
       "      <th>host_location</th>\n",
       "      <th>host_about</th>\n",
       "      <th>host_response_time</th>\n",
       "      <th>host_response_rate</th>\n",
       "      <th>host_acceptance_rate</th>\n",
       "      <th>host_is_superhost</th>\n",
       "      <th>host_thumbnail_url</th>\n",
       "      <th>host_picture_url</th>\n",
       "      <th>host_neighbourhood</th>\n",
       "      <th>host_listings_count</th>\n",
       "      <th>host_total_listings_count</th>\n",
       "      <th>host_verifications</th>\n",
       "      <th>host_has_profile_pic</th>\n",
       "      <th>host_identity_verified</th>\n",
       "      <th>neighbourhood</th>\n",
       "      <th>neighbourhood_cleansed</th>\n",
       "      <th>neighbourhood_group_cleansed</th>\n",
       "      <th>latitude</th>\n",
       "      <th>longitude</th>\n",
       "      <th>property_type</th>\n",
       "      <th>room_type</th>\n",
       "      <th>accommodates</th>\n",
       "      <th>bathrooms</th>\n",
       "      <th>bathrooms_text</th>\n",
       "      <th>bedrooms</th>\n",
       "      <th>beds</th>\n",
       "      <th>amenities</th>\n",
       "      <th>price</th>\n",
       "      <th>minimum_nights</th>\n",
       "      <th>maximum_nights</th>\n",
       "      <th>minimum_minimum_nights</th>\n",
       "      <th>maximum_minimum_nights</th>\n",
       "      <th>minimum_maximum_nights</th>\n",
       "      <th>maximum_maximum_nights</th>\n",
       "      <th>minimum_nights_avg_ntm</th>\n",
       "      <th>maximum_nights_avg_ntm</th>\n",
       "      <th>calendar_updated</th>\n",
       "      <th>has_availability</th>\n",
       "      <th>availability_30</th>\n",
       "      <th>availability_60</th>\n",
       "      <th>availability_90</th>\n",
       "      <th>availability_365</th>\n",
       "      <th>calendar_last_scraped</th>\n",
       "      <th>number_of_reviews</th>\n",
       "      <th>number_of_reviews_ltm</th>\n",
       "      <th>number_of_reviews_l30d</th>\n",
       "      <th>first_review</th>\n",
       "      <th>last_review</th>\n",
       "      <th>review_scores_rating</th>\n",
       "      <th>review_scores_accuracy</th>\n",
       "      <th>review_scores_cleanliness</th>\n",
       "      <th>review_scores_checkin</th>\n",
       "      <th>review_scores_communication</th>\n",
       "      <th>review_scores_location</th>\n",
       "      <th>review_scores_value</th>\n",
       "      <th>license</th>\n",
       "      <th>instant_bookable</th>\n",
       "      <th>calculated_host_listings_count</th>\n",
       "      <th>calculated_host_listings_count_entire_homes</th>\n",
       "      <th>calculated_host_listings_count_private_rooms</th>\n",
       "      <th>calculated_host_listings_count_shared_rooms</th>\n",
       "      <th>reviews_per_month</th>\n",
       "    </tr>\n",
       "  </thead>\n",
       "  <tbody>\n",
       "    <tr>\n",
       "      <th>0</th>\n",
       "      <td>17878</td>\n",
       "      <td>https://www.airbnb.com/rooms/17878</td>\n",
       "      <td>20201127022409</td>\n",
       "      <td>2020-11-29</td>\n",
       "      <td>Very Nice 2Br in Copacabana w. balcony, fast WiFi</td>\n",
       "      <td>Discounts for long term stays. &lt;br /&gt;- Large b...</td>\n",
       "      <td>This is the one of the bests spots in Rio. Bec...</td>\n",
       "      <td>https://a0.muscache.com/pictures/65320518/3069...</td>\n",
       "      <td>68997</td>\n",
       "      <td>https://www.airbnb.com/users/show/68997</td>\n",
       "      <td>Matthias</td>\n",
       "      <td>2010-01-08</td>\n",
       "      <td>Rio de Janeiro, State of Rio de Janeiro, Brazil</td>\n",
       "      <td>I  am a  journalist/writer. Lived for 15 years...</td>\n",
       "      <td>within an hour</td>\n",
       "      <td>100%</td>\n",
       "      <td>100%</td>\n",
       "      <td>t</td>\n",
       "      <td>https://a0.muscache.com/im/pictures/user/67b13...</td>\n",
       "      <td>https://a0.muscache.com/im/pictures/user/67b13...</td>\n",
       "      <td>Copacabana</td>\n",
       "      <td>2.0</td>\n",
       "      <td>2.0</td>\n",
       "      <td>['email', 'phone', 'reviews', 'jumio', 'offlin...</td>\n",
       "      <td>t</td>\n",
       "      <td>t</td>\n",
       "      <td>Rio de Janeiro, Brazil</td>\n",
       "      <td>Copacabana</td>\n",
       "      <td>NaN</td>\n",
       "      <td>-22.96592</td>\n",
       "      <td>-43.17896</td>\n",
       "      <td>Entire condominium</td>\n",
       "      <td>Entire home/apt</td>\n",
       "      <td>5</td>\n",
       "      <td>NaN</td>\n",
       "      <td>1 bath</td>\n",
       "      <td>2.0</td>\n",
       "      <td>2.0</td>\n",
       "      <td>[\"Patio or balcony\", \"Cooking basics\", \"Dedica...</td>\n",
       "      <td>$164.00</td>\n",
       "      <td>5</td>\n",
       "      <td>180</td>\n",
       "      <td>5</td>\n",
       "      <td>5</td>\n",
       "      <td>1125</td>\n",
       "      <td>1125</td>\n",
       "      <td>5.0</td>\n",
       "      <td>1125.0</td>\n",
       "      <td>NaN</td>\n",
       "      <td>t</td>\n",
       "      <td>0</td>\n",
       "      <td>0</td>\n",
       "      <td>0</td>\n",
       "      <td>0</td>\n",
       "      <td>2020-11-29</td>\n",
       "      <td>257</td>\n",
       "      <td>12</td>\n",
       "      <td>2</td>\n",
       "      <td>2010-07-15</td>\n",
       "      <td>2020-11-19</td>\n",
       "      <td>93.0</td>\n",
       "      <td>9.0</td>\n",
       "      <td>9.0</td>\n",
       "      <td>10.0</td>\n",
       "      <td>10.0</td>\n",
       "      <td>10.0</td>\n",
       "      <td>9.0</td>\n",
       "      <td>NaN</td>\n",
       "      <td>t</td>\n",
       "      <td>1</td>\n",
       "      <td>1</td>\n",
       "      <td>0</td>\n",
       "      <td>0</td>\n",
       "      <td>2.03</td>\n",
       "    </tr>\n",
       "    <tr>\n",
       "      <th>1</th>\n",
       "      <td>25026</td>\n",
       "      <td>https://www.airbnb.com/rooms/25026</td>\n",
       "      <td>20201127022409</td>\n",
       "      <td>2020-11-27</td>\n",
       "      <td>Beautiful Modern Decorated Studio in Copa</td>\n",
       "      <td>Our apartment is a little gem, everyone loves ...</td>\n",
       "      <td>Copacabana is a lively neighborhood and the ap...</td>\n",
       "      <td>https://a0.muscache.com/pictures/3003965/68ebb...</td>\n",
       "      <td>3746246</td>\n",
       "      <td>https://www.airbnb.com/users/show/3746246</td>\n",
       "      <td>Lydie &amp; Ghizlane</td>\n",
       "      <td>2012-10-03</td>\n",
       "      <td>Rio de Janeiro, Rio de Janeiro, Brazil</td>\n",
       "      <td>Both French girls \"lost in Brazilian translati...</td>\n",
       "      <td>within an hour</td>\n",
       "      <td>94%</td>\n",
       "      <td>70%</td>\n",
       "      <td>f</td>\n",
       "      <td>https://a0.muscache.com/im/users/3746246/profi...</td>\n",
       "      <td>https://a0.muscache.com/im/users/3746246/profi...</td>\n",
       "      <td>Ipanema</td>\n",
       "      <td>12.0</td>\n",
       "      <td>12.0</td>\n",
       "      <td>['reviews', 'jumio', 'offline_government_id', ...</td>\n",
       "      <td>t</td>\n",
       "      <td>f</td>\n",
       "      <td>Rio de Janeiro, Brazil</td>\n",
       "      <td>Copacabana</td>\n",
       "      <td>NaN</td>\n",
       "      <td>-22.97712</td>\n",
       "      <td>-43.19045</td>\n",
       "      <td>Entire apartment</td>\n",
       "      <td>Entire home/apt</td>\n",
       "      <td>2</td>\n",
       "      <td>NaN</td>\n",
       "      <td>1 bath</td>\n",
       "      <td>1.0</td>\n",
       "      <td>2.0</td>\n",
       "      <td>[\"Air conditioning\", \"Bed linens\", \"TV\", \"Esse...</td>\n",
       "      <td>$160.00</td>\n",
       "      <td>7</td>\n",
       "      <td>60</td>\n",
       "      <td>7</td>\n",
       "      <td>7</td>\n",
       "      <td>60</td>\n",
       "      <td>60</td>\n",
       "      <td>7.0</td>\n",
       "      <td>60.0</td>\n",
       "      <td>NaN</td>\n",
       "      <td>t</td>\n",
       "      <td>0</td>\n",
       "      <td>10</td>\n",
       "      <td>33</td>\n",
       "      <td>308</td>\n",
       "      <td>2020-11-27</td>\n",
       "      <td>238</td>\n",
       "      <td>4</td>\n",
       "      <td>0</td>\n",
       "      <td>2010-06-07</td>\n",
       "      <td>2020-02-15</td>\n",
       "      <td>94.0</td>\n",
       "      <td>9.0</td>\n",
       "      <td>9.0</td>\n",
       "      <td>9.0</td>\n",
       "      <td>10.0</td>\n",
       "      <td>10.0</td>\n",
       "      <td>9.0</td>\n",
       "      <td>NaN</td>\n",
       "      <td>f</td>\n",
       "      <td>11</td>\n",
       "      <td>11</td>\n",
       "      <td>0</td>\n",
       "      <td>0</td>\n",
       "      <td>1.87</td>\n",
       "    </tr>\n",
       "    <tr>\n",
       "      <th>2</th>\n",
       "      <td>35636</td>\n",
       "      <td>https://www.airbnb.com/rooms/35636</td>\n",
       "      <td>20201127022409</td>\n",
       "      <td>2020-11-29</td>\n",
       "      <td>Cosy flat close to Ipanema beach</td>\n",
       "      <td>This cosy apartment  is just a few steps away ...</td>\n",
       "      <td>The  apartment street is very quiet and safe ....</td>\n",
       "      <td>https://a0.muscache.com/pictures/20009355/38b6...</td>\n",
       "      <td>153232</td>\n",
       "      <td>https://www.airbnb.com/users/show/153232</td>\n",
       "      <td>Patricia</td>\n",
       "      <td>2010-06-27</td>\n",
       "      <td>San Carlos de Bariloche, Rio Negro, Argentina</td>\n",
       "      <td>I am Brazilian and Carioca graphic designer, b...</td>\n",
       "      <td>within an hour</td>\n",
       "      <td>100%</td>\n",
       "      <td>100%</td>\n",
       "      <td>f</td>\n",
       "      <td>https://a0.muscache.com/im/users/153232/profil...</td>\n",
       "      <td>https://a0.muscache.com/im/users/153232/profil...</td>\n",
       "      <td>Ipanema</td>\n",
       "      <td>1.0</td>\n",
       "      <td>1.0</td>\n",
       "      <td>['email', 'phone', 'facebook', 'reviews', 'man...</td>\n",
       "      <td>t</td>\n",
       "      <td>t</td>\n",
       "      <td>Rio de Janeiro, Brazil</td>\n",
       "      <td>Ipanema</td>\n",
       "      <td>NaN</td>\n",
       "      <td>-22.98816</td>\n",
       "      <td>-43.19359</td>\n",
       "      <td>Entire apartment</td>\n",
       "      <td>Entire home/apt</td>\n",
       "      <td>2</td>\n",
       "      <td>NaN</td>\n",
       "      <td>1.5 baths</td>\n",
       "      <td>1.0</td>\n",
       "      <td>1.0</td>\n",
       "      <td>[\"Hot water\", \"Cooking basics\", \"Elevator\", \"L...</td>\n",
       "      <td>$267.00</td>\n",
       "      <td>2</td>\n",
       "      <td>89</td>\n",
       "      <td>2</td>\n",
       "      <td>2</td>\n",
       "      <td>89</td>\n",
       "      <td>89</td>\n",
       "      <td>2.0</td>\n",
       "      <td>89.0</td>\n",
       "      <td>NaN</td>\n",
       "      <td>t</td>\n",
       "      <td>0</td>\n",
       "      <td>0</td>\n",
       "      <td>0</td>\n",
       "      <td>242</td>\n",
       "      <td>2020-11-29</td>\n",
       "      <td>181</td>\n",
       "      <td>11</td>\n",
       "      <td>0</td>\n",
       "      <td>2013-10-22</td>\n",
       "      <td>2020-03-15</td>\n",
       "      <td>94.0</td>\n",
       "      <td>10.0</td>\n",
       "      <td>9.0</td>\n",
       "      <td>10.0</td>\n",
       "      <td>10.0</td>\n",
       "      <td>10.0</td>\n",
       "      <td>9.0</td>\n",
       "      <td>NaN</td>\n",
       "      <td>f</td>\n",
       "      <td>1</td>\n",
       "      <td>1</td>\n",
       "      <td>0</td>\n",
       "      <td>0</td>\n",
       "      <td>2.09</td>\n",
       "    </tr>\n",
       "  </tbody>\n",
       "</table>\n",
       "</div>"
      ],
      "text/plain": [
       "      id                         listing_url       scrape_id last_scraped  \\\n",
       "0  17878  https://www.airbnb.com/rooms/17878  20201127022409   2020-11-29   \n",
       "1  25026  https://www.airbnb.com/rooms/25026  20201127022409   2020-11-27   \n",
       "2  35636  https://www.airbnb.com/rooms/35636  20201127022409   2020-11-29   \n",
       "\n",
       "                                                name  \\\n",
       "0  Very Nice 2Br in Copacabana w. balcony, fast WiFi   \n",
       "1          Beautiful Modern Decorated Studio in Copa   \n",
       "2                   Cosy flat close to Ipanema beach   \n",
       "\n",
       "                                         description  \\\n",
       "0  Discounts for long term stays. <br />- Large b...   \n",
       "1  Our apartment is a little gem, everyone loves ...   \n",
       "2  This cosy apartment  is just a few steps away ...   \n",
       "\n",
       "                               neighborhood_overview  \\\n",
       "0  This is the one of the bests spots in Rio. Bec...   \n",
       "1  Copacabana is a lively neighborhood and the ap...   \n",
       "2  The  apartment street is very quiet and safe ....   \n",
       "\n",
       "                                         picture_url  host_id  \\\n",
       "0  https://a0.muscache.com/pictures/65320518/3069...    68997   \n",
       "1  https://a0.muscache.com/pictures/3003965/68ebb...  3746246   \n",
       "2  https://a0.muscache.com/pictures/20009355/38b6...   153232   \n",
       "\n",
       "                                    host_url         host_name  host_since  \\\n",
       "0    https://www.airbnb.com/users/show/68997          Matthias  2010-01-08   \n",
       "1  https://www.airbnb.com/users/show/3746246  Lydie & Ghizlane  2012-10-03   \n",
       "2   https://www.airbnb.com/users/show/153232          Patricia  2010-06-27   \n",
       "\n",
       "                                     host_location  \\\n",
       "0  Rio de Janeiro, State of Rio de Janeiro, Brazil   \n",
       "1           Rio de Janeiro, Rio de Janeiro, Brazil   \n",
       "2    San Carlos de Bariloche, Rio Negro, Argentina   \n",
       "\n",
       "                                          host_about host_response_time  \\\n",
       "0  I  am a  journalist/writer. Lived for 15 years...     within an hour   \n",
       "1  Both French girls \"lost in Brazilian translati...     within an hour   \n",
       "2  I am Brazilian and Carioca graphic designer, b...     within an hour   \n",
       "\n",
       "  host_response_rate host_acceptance_rate host_is_superhost  \\\n",
       "0               100%                 100%                 t   \n",
       "1                94%                  70%                 f   \n",
       "2               100%                 100%                 f   \n",
       "\n",
       "                                  host_thumbnail_url  \\\n",
       "0  https://a0.muscache.com/im/pictures/user/67b13...   \n",
       "1  https://a0.muscache.com/im/users/3746246/profi...   \n",
       "2  https://a0.muscache.com/im/users/153232/profil...   \n",
       "\n",
       "                                    host_picture_url host_neighbourhood  \\\n",
       "0  https://a0.muscache.com/im/pictures/user/67b13...         Copacabana   \n",
       "1  https://a0.muscache.com/im/users/3746246/profi...            Ipanema   \n",
       "2  https://a0.muscache.com/im/users/153232/profil...            Ipanema   \n",
       "\n",
       "   host_listings_count  host_total_listings_count  \\\n",
       "0                  2.0                        2.0   \n",
       "1                 12.0                       12.0   \n",
       "2                  1.0                        1.0   \n",
       "\n",
       "                                  host_verifications host_has_profile_pic  \\\n",
       "0  ['email', 'phone', 'reviews', 'jumio', 'offlin...                    t   \n",
       "1  ['reviews', 'jumio', 'offline_government_id', ...                    t   \n",
       "2  ['email', 'phone', 'facebook', 'reviews', 'man...                    t   \n",
       "\n",
       "  host_identity_verified           neighbourhood neighbourhood_cleansed  \\\n",
       "0                      t  Rio de Janeiro, Brazil             Copacabana   \n",
       "1                      f  Rio de Janeiro, Brazil             Copacabana   \n",
       "2                      t  Rio de Janeiro, Brazil                Ipanema   \n",
       "\n",
       "   neighbourhood_group_cleansed  latitude  longitude       property_type  \\\n",
       "0                           NaN -22.96592  -43.17896  Entire condominium   \n",
       "1                           NaN -22.97712  -43.19045    Entire apartment   \n",
       "2                           NaN -22.98816  -43.19359    Entire apartment   \n",
       "\n",
       "         room_type  accommodates  bathrooms bathrooms_text  bedrooms  beds  \\\n",
       "0  Entire home/apt             5        NaN         1 bath       2.0   2.0   \n",
       "1  Entire home/apt             2        NaN         1 bath       1.0   2.0   \n",
       "2  Entire home/apt             2        NaN      1.5 baths       1.0   1.0   \n",
       "\n",
       "                                           amenities    price  minimum_nights  \\\n",
       "0  [\"Patio or balcony\", \"Cooking basics\", \"Dedica...  $164.00               5   \n",
       "1  [\"Air conditioning\", \"Bed linens\", \"TV\", \"Esse...  $160.00               7   \n",
       "2  [\"Hot water\", \"Cooking basics\", \"Elevator\", \"L...  $267.00               2   \n",
       "\n",
       "   maximum_nights  minimum_minimum_nights  maximum_minimum_nights  \\\n",
       "0             180                       5                       5   \n",
       "1              60                       7                       7   \n",
       "2              89                       2                       2   \n",
       "\n",
       "   minimum_maximum_nights  maximum_maximum_nights  minimum_nights_avg_ntm  \\\n",
       "0                    1125                    1125                     5.0   \n",
       "1                      60                      60                     7.0   \n",
       "2                      89                      89                     2.0   \n",
       "\n",
       "   maximum_nights_avg_ntm  calendar_updated has_availability  availability_30  \\\n",
       "0                  1125.0               NaN                t                0   \n",
       "1                    60.0               NaN                t                0   \n",
       "2                    89.0               NaN                t                0   \n",
       "\n",
       "   availability_60  availability_90  availability_365 calendar_last_scraped  \\\n",
       "0                0                0                 0            2020-11-29   \n",
       "1               10               33               308            2020-11-27   \n",
       "2                0                0               242            2020-11-29   \n",
       "\n",
       "   number_of_reviews  number_of_reviews_ltm  number_of_reviews_l30d  \\\n",
       "0                257                     12                       2   \n",
       "1                238                      4                       0   \n",
       "2                181                     11                       0   \n",
       "\n",
       "  first_review last_review  review_scores_rating  review_scores_accuracy  \\\n",
       "0   2010-07-15  2020-11-19                  93.0                     9.0   \n",
       "1   2010-06-07  2020-02-15                  94.0                     9.0   \n",
       "2   2013-10-22  2020-03-15                  94.0                    10.0   \n",
       "\n",
       "   review_scores_cleanliness  review_scores_checkin  \\\n",
       "0                        9.0                   10.0   \n",
       "1                        9.0                    9.0   \n",
       "2                        9.0                   10.0   \n",
       "\n",
       "   review_scores_communication  review_scores_location  review_scores_value  \\\n",
       "0                         10.0                    10.0                  9.0   \n",
       "1                         10.0                    10.0                  9.0   \n",
       "2                         10.0                    10.0                  9.0   \n",
       "\n",
       "   license instant_bookable  calculated_host_listings_count  \\\n",
       "0      NaN                t                               1   \n",
       "1      NaN                f                              11   \n",
       "2      NaN                f                               1   \n",
       "\n",
       "   calculated_host_listings_count_entire_homes  \\\n",
       "0                                            1   \n",
       "1                                           11   \n",
       "2                                            1   \n",
       "\n",
       "   calculated_host_listings_count_private_rooms  \\\n",
       "0                                             0   \n",
       "1                                             0   \n",
       "2                                             0   \n",
       "\n",
       "   calculated_host_listings_count_shared_rooms  reviews_per_month  \n",
       "0                                            0               2.03  \n",
       "1                                            0               1.87  \n",
       "2                                            0               2.09  "
      ]
     },
     "execution_count": 144,
     "metadata": {},
     "output_type": "execute_result"
    }
   ],
   "source": [
    "# Read dataframe\n",
    "listings = pd.read_csv(\"more_listings.csv\", encoding = \"utf-8\", delimiter = \",\", low_memory = False)\n",
    "\n",
    "# Print preview\n",
    "listings.head(3)"
   ]
  },
  {
   "cell_type": "code",
   "execution_count": 145,
   "metadata": {
    "colab": {
     "base_uri": "https://localhost:8080/"
    },
    "id": "DHYM61NLkLK6",
    "outputId": "f03098c1-c8a2-4ec1-a08c-4aeaf3c903db"
   },
   "outputs": [
    {
     "name": "stdout",
     "output_type": "stream",
     "text": [
      "Number of instances:\t 24681 \n",
      "Number of features:\t 74\n"
     ]
    }
   ],
   "source": [
    "# Print dataframe shapes\n",
    "df_shape(listings)"
   ]
  },
  {
   "cell_type": "markdown",
   "metadata": {
    "id": "3XiSN_FIkLK6"
   },
   "source": [
    "# Data Preparation"
   ]
  },
  {
   "cell_type": "markdown",
   "metadata": {
    "id": "z1PySMMRkLK6"
   },
   "source": [
    "## Visual Inspection and Removing Useless Columns"
   ]
  },
  {
   "cell_type": "markdown",
   "metadata": {},
   "source": [
    "Some of the columns will not give us some good information about what we want, URLs, text descriptions, and some IDs will not be useful for us, so let's do a manual removal of them."
   ]
  },
  {
   "cell_type": "code",
   "execution_count": 146,
   "metadata": {
    "colab": {
     "base_uri": "https://localhost:8080/",
     "height": 341
    },
    "id": "rzTmvnrykLK6",
    "outputId": "d8c0b8ee-6473-44e9-8ef9-f8c2007fda4c"
   },
   "outputs": [
    {
     "data": {
      "text/html": [
       "<div>\n",
       "<style scoped>\n",
       "    .dataframe tbody tr th:only-of-type {\n",
       "        vertical-align: middle;\n",
       "    }\n",
       "\n",
       "    .dataframe tbody tr th {\n",
       "        vertical-align: top;\n",
       "    }\n",
       "\n",
       "    .dataframe thead th {\n",
       "        text-align: right;\n",
       "    }\n",
       "</style>\n",
       "<table border=\"1\" class=\"dataframe\">\n",
       "  <thead>\n",
       "    <tr style=\"text-align: right;\">\n",
       "      <th></th>\n",
       "      <th>host_since</th>\n",
       "      <th>host_response_time</th>\n",
       "      <th>host_response_rate</th>\n",
       "      <th>host_acceptance_rate</th>\n",
       "      <th>host_is_superhost</th>\n",
       "      <th>host_neighbourhood</th>\n",
       "      <th>host_listings_count</th>\n",
       "      <th>host_total_listings_count</th>\n",
       "      <th>host_verifications</th>\n",
       "      <th>host_has_profile_pic</th>\n",
       "      <th>host_identity_verified</th>\n",
       "      <th>neighbourhood</th>\n",
       "      <th>neighbourhood_cleansed</th>\n",
       "      <th>neighbourhood_group_cleansed</th>\n",
       "      <th>latitude</th>\n",
       "      <th>longitude</th>\n",
       "      <th>property_type</th>\n",
       "      <th>room_type</th>\n",
       "      <th>accommodates</th>\n",
       "      <th>bathrooms</th>\n",
       "      <th>bathrooms_text</th>\n",
       "      <th>bedrooms</th>\n",
       "      <th>beds</th>\n",
       "      <th>amenities</th>\n",
       "      <th>price</th>\n",
       "      <th>minimum_nights</th>\n",
       "      <th>maximum_nights</th>\n",
       "      <th>minimum_minimum_nights</th>\n",
       "      <th>maximum_minimum_nights</th>\n",
       "      <th>minimum_maximum_nights</th>\n",
       "      <th>maximum_maximum_nights</th>\n",
       "      <th>minimum_nights_avg_ntm</th>\n",
       "      <th>maximum_nights_avg_ntm</th>\n",
       "      <th>calendar_updated</th>\n",
       "      <th>has_availability</th>\n",
       "      <th>availability_30</th>\n",
       "      <th>availability_60</th>\n",
       "      <th>availability_90</th>\n",
       "      <th>availability_365</th>\n",
       "      <th>number_of_reviews</th>\n",
       "      <th>number_of_reviews_ltm</th>\n",
       "      <th>number_of_reviews_l30d</th>\n",
       "      <th>first_review</th>\n",
       "      <th>last_review</th>\n",
       "      <th>review_scores_rating</th>\n",
       "      <th>license</th>\n",
       "      <th>instant_bookable</th>\n",
       "      <th>calculated_host_listings_count</th>\n",
       "      <th>calculated_host_listings_count_entire_homes</th>\n",
       "      <th>calculated_host_listings_count_private_rooms</th>\n",
       "      <th>calculated_host_listings_count_shared_rooms</th>\n",
       "      <th>reviews_per_month</th>\n",
       "    </tr>\n",
       "  </thead>\n",
       "  <tbody>\n",
       "    <tr>\n",
       "      <th>0</th>\n",
       "      <td>2010-01-08</td>\n",
       "      <td>within an hour</td>\n",
       "      <td>100%</td>\n",
       "      <td>100%</td>\n",
       "      <td>t</td>\n",
       "      <td>Copacabana</td>\n",
       "      <td>2.0</td>\n",
       "      <td>2.0</td>\n",
       "      <td>['email', 'phone', 'reviews', 'jumio', 'offlin...</td>\n",
       "      <td>t</td>\n",
       "      <td>t</td>\n",
       "      <td>Rio de Janeiro, Brazil</td>\n",
       "      <td>Copacabana</td>\n",
       "      <td>NaN</td>\n",
       "      <td>-22.96592</td>\n",
       "      <td>-43.17896</td>\n",
       "      <td>Entire condominium</td>\n",
       "      <td>Entire home/apt</td>\n",
       "      <td>5</td>\n",
       "      <td>NaN</td>\n",
       "      <td>1 bath</td>\n",
       "      <td>2.0</td>\n",
       "      <td>2.0</td>\n",
       "      <td>[\"Patio or balcony\", \"Cooking basics\", \"Dedica...</td>\n",
       "      <td>$164.00</td>\n",
       "      <td>5</td>\n",
       "      <td>180</td>\n",
       "      <td>5</td>\n",
       "      <td>5</td>\n",
       "      <td>1125</td>\n",
       "      <td>1125</td>\n",
       "      <td>5.0</td>\n",
       "      <td>1125.0</td>\n",
       "      <td>NaN</td>\n",
       "      <td>t</td>\n",
       "      <td>0</td>\n",
       "      <td>0</td>\n",
       "      <td>0</td>\n",
       "      <td>0</td>\n",
       "      <td>257</td>\n",
       "      <td>12</td>\n",
       "      <td>2</td>\n",
       "      <td>2010-07-15</td>\n",
       "      <td>2020-11-19</td>\n",
       "      <td>93.0</td>\n",
       "      <td>NaN</td>\n",
       "      <td>t</td>\n",
       "      <td>1</td>\n",
       "      <td>1</td>\n",
       "      <td>0</td>\n",
       "      <td>0</td>\n",
       "      <td>2.03</td>\n",
       "    </tr>\n",
       "    <tr>\n",
       "      <th>1</th>\n",
       "      <td>2012-10-03</td>\n",
       "      <td>within an hour</td>\n",
       "      <td>94%</td>\n",
       "      <td>70%</td>\n",
       "      <td>f</td>\n",
       "      <td>Ipanema</td>\n",
       "      <td>12.0</td>\n",
       "      <td>12.0</td>\n",
       "      <td>['reviews', 'jumio', 'offline_government_id', ...</td>\n",
       "      <td>t</td>\n",
       "      <td>f</td>\n",
       "      <td>Rio de Janeiro, Brazil</td>\n",
       "      <td>Copacabana</td>\n",
       "      <td>NaN</td>\n",
       "      <td>-22.97712</td>\n",
       "      <td>-43.19045</td>\n",
       "      <td>Entire apartment</td>\n",
       "      <td>Entire home/apt</td>\n",
       "      <td>2</td>\n",
       "      <td>NaN</td>\n",
       "      <td>1 bath</td>\n",
       "      <td>1.0</td>\n",
       "      <td>2.0</td>\n",
       "      <td>[\"Air conditioning\", \"Bed linens\", \"TV\", \"Esse...</td>\n",
       "      <td>$160.00</td>\n",
       "      <td>7</td>\n",
       "      <td>60</td>\n",
       "      <td>7</td>\n",
       "      <td>7</td>\n",
       "      <td>60</td>\n",
       "      <td>60</td>\n",
       "      <td>7.0</td>\n",
       "      <td>60.0</td>\n",
       "      <td>NaN</td>\n",
       "      <td>t</td>\n",
       "      <td>0</td>\n",
       "      <td>10</td>\n",
       "      <td>33</td>\n",
       "      <td>308</td>\n",
       "      <td>238</td>\n",
       "      <td>4</td>\n",
       "      <td>0</td>\n",
       "      <td>2010-06-07</td>\n",
       "      <td>2020-02-15</td>\n",
       "      <td>94.0</td>\n",
       "      <td>NaN</td>\n",
       "      <td>f</td>\n",
       "      <td>11</td>\n",
       "      <td>11</td>\n",
       "      <td>0</td>\n",
       "      <td>0</td>\n",
       "      <td>1.87</td>\n",
       "    </tr>\n",
       "    <tr>\n",
       "      <th>2</th>\n",
       "      <td>2010-06-27</td>\n",
       "      <td>within an hour</td>\n",
       "      <td>100%</td>\n",
       "      <td>100%</td>\n",
       "      <td>f</td>\n",
       "      <td>Ipanema</td>\n",
       "      <td>1.0</td>\n",
       "      <td>1.0</td>\n",
       "      <td>['email', 'phone', 'facebook', 'reviews', 'man...</td>\n",
       "      <td>t</td>\n",
       "      <td>t</td>\n",
       "      <td>Rio de Janeiro, Brazil</td>\n",
       "      <td>Ipanema</td>\n",
       "      <td>NaN</td>\n",
       "      <td>-22.98816</td>\n",
       "      <td>-43.19359</td>\n",
       "      <td>Entire apartment</td>\n",
       "      <td>Entire home/apt</td>\n",
       "      <td>2</td>\n",
       "      <td>NaN</td>\n",
       "      <td>1.5 baths</td>\n",
       "      <td>1.0</td>\n",
       "      <td>1.0</td>\n",
       "      <td>[\"Hot water\", \"Cooking basics\", \"Elevator\", \"L...</td>\n",
       "      <td>$267.00</td>\n",
       "      <td>2</td>\n",
       "      <td>89</td>\n",
       "      <td>2</td>\n",
       "      <td>2</td>\n",
       "      <td>89</td>\n",
       "      <td>89</td>\n",
       "      <td>2.0</td>\n",
       "      <td>89.0</td>\n",
       "      <td>NaN</td>\n",
       "      <td>t</td>\n",
       "      <td>0</td>\n",
       "      <td>0</td>\n",
       "      <td>0</td>\n",
       "      <td>242</td>\n",
       "      <td>181</td>\n",
       "      <td>11</td>\n",
       "      <td>0</td>\n",
       "      <td>2013-10-22</td>\n",
       "      <td>2020-03-15</td>\n",
       "      <td>94.0</td>\n",
       "      <td>NaN</td>\n",
       "      <td>f</td>\n",
       "      <td>1</td>\n",
       "      <td>1</td>\n",
       "      <td>0</td>\n",
       "      <td>0</td>\n",
       "      <td>2.09</td>\n",
       "    </tr>\n",
       "  </tbody>\n",
       "</table>\n",
       "</div>"
      ],
      "text/plain": [
       "   host_since host_response_time host_response_rate host_acceptance_rate  \\\n",
       "0  2010-01-08     within an hour               100%                 100%   \n",
       "1  2012-10-03     within an hour                94%                  70%   \n",
       "2  2010-06-27     within an hour               100%                 100%   \n",
       "\n",
       "  host_is_superhost host_neighbourhood  host_listings_count  \\\n",
       "0                 t         Copacabana                  2.0   \n",
       "1                 f            Ipanema                 12.0   \n",
       "2                 f            Ipanema                  1.0   \n",
       "\n",
       "   host_total_listings_count  \\\n",
       "0                        2.0   \n",
       "1                       12.0   \n",
       "2                        1.0   \n",
       "\n",
       "                                  host_verifications host_has_profile_pic  \\\n",
       "0  ['email', 'phone', 'reviews', 'jumio', 'offlin...                    t   \n",
       "1  ['reviews', 'jumio', 'offline_government_id', ...                    t   \n",
       "2  ['email', 'phone', 'facebook', 'reviews', 'man...                    t   \n",
       "\n",
       "  host_identity_verified           neighbourhood neighbourhood_cleansed  \\\n",
       "0                      t  Rio de Janeiro, Brazil             Copacabana   \n",
       "1                      f  Rio de Janeiro, Brazil             Copacabana   \n",
       "2                      t  Rio de Janeiro, Brazil                Ipanema   \n",
       "\n",
       "   neighbourhood_group_cleansed  latitude  longitude       property_type  \\\n",
       "0                           NaN -22.96592  -43.17896  Entire condominium   \n",
       "1                           NaN -22.97712  -43.19045    Entire apartment   \n",
       "2                           NaN -22.98816  -43.19359    Entire apartment   \n",
       "\n",
       "         room_type  accommodates  bathrooms bathrooms_text  bedrooms  beds  \\\n",
       "0  Entire home/apt             5        NaN         1 bath       2.0   2.0   \n",
       "1  Entire home/apt             2        NaN         1 bath       1.0   2.0   \n",
       "2  Entire home/apt             2        NaN      1.5 baths       1.0   1.0   \n",
       "\n",
       "                                           amenities    price  minimum_nights  \\\n",
       "0  [\"Patio or balcony\", \"Cooking basics\", \"Dedica...  $164.00               5   \n",
       "1  [\"Air conditioning\", \"Bed linens\", \"TV\", \"Esse...  $160.00               7   \n",
       "2  [\"Hot water\", \"Cooking basics\", \"Elevator\", \"L...  $267.00               2   \n",
       "\n",
       "   maximum_nights  minimum_minimum_nights  maximum_minimum_nights  \\\n",
       "0             180                       5                       5   \n",
       "1              60                       7                       7   \n",
       "2              89                       2                       2   \n",
       "\n",
       "   minimum_maximum_nights  maximum_maximum_nights  minimum_nights_avg_ntm  \\\n",
       "0                    1125                    1125                     5.0   \n",
       "1                      60                      60                     7.0   \n",
       "2                      89                      89                     2.0   \n",
       "\n",
       "   maximum_nights_avg_ntm  calendar_updated has_availability  availability_30  \\\n",
       "0                  1125.0               NaN                t                0   \n",
       "1                    60.0               NaN                t                0   \n",
       "2                    89.0               NaN                t                0   \n",
       "\n",
       "   availability_60  availability_90  availability_365  number_of_reviews  \\\n",
       "0                0                0                 0                257   \n",
       "1               10               33               308                238   \n",
       "2                0                0               242                181   \n",
       "\n",
       "   number_of_reviews_ltm  number_of_reviews_l30d first_review last_review  \\\n",
       "0                     12                       2   2010-07-15  2020-11-19   \n",
       "1                      4                       0   2010-06-07  2020-02-15   \n",
       "2                     11                       0   2013-10-22  2020-03-15   \n",
       "\n",
       "   review_scores_rating  license instant_bookable  \\\n",
       "0                  93.0      NaN                t   \n",
       "1                  94.0      NaN                f   \n",
       "2                  94.0      NaN                f   \n",
       "\n",
       "   calculated_host_listings_count  \\\n",
       "0                               1   \n",
       "1                              11   \n",
       "2                               1   \n",
       "\n",
       "   calculated_host_listings_count_entire_homes  \\\n",
       "0                                            1   \n",
       "1                                           11   \n",
       "2                                            1   \n",
       "\n",
       "   calculated_host_listings_count_private_rooms  \\\n",
       "0                                             0   \n",
       "1                                             0   \n",
       "2                                             0   \n",
       "\n",
       "   calculated_host_listings_count_shared_rooms  reviews_per_month  \n",
       "0                                            0               2.03  \n",
       "1                                            0               1.87  \n",
       "2                                            0               2.09  "
      ]
     },
     "execution_count": 146,
     "metadata": {},
     "output_type": "execute_result"
    }
   ],
   "source": [
    "# Columns to remove\n",
    "columns_to_remove = [\n",
    "    \"id\", \"listing_url\", \"scrape_id\", \"last_scraped\", \"name\", \"description\"\n",
    "    , \"neighborhood_overview\", \"picture_url\", \"host_id\", \"host_url\", \"host_name\"\n",
    "    , \"host_location\", \"host_about\", \"host_thumbnail_url\", \"host_picture_url\"\n",
    "    , \"calendar_last_scraped\", \"review_scores_accuracy\", \"review_scores_cleanliness\"\n",
    "    , \"review_scores_checkin\", \"review_scores_communication\", \"review_scores_location\"\n",
    "    , \"review_scores_value\"]\n",
    "\n",
    "# Drop columns\n",
    "listings.drop(columns_to_remove, axis = 1, inplace = True)\n",
    "\n",
    "# Print preview\n",
    "listings.head(3)"
   ]
  },
  {
   "cell_type": "markdown",
   "metadata": {
    "id": "kwESs2x3kLK7"
   },
   "source": [
    "## Converting string to datetime"
   ]
  },
  {
   "cell_type": "markdown",
   "metadata": {},
   "source": [
    "A good thing to do is ensure that we are working with dates not strings, so let us transform these columns."
   ]
  },
  {
   "cell_type": "code",
   "execution_count": 147,
   "metadata": {
    "colab": {
     "base_uri": "https://localhost:8080/",
     "height": 136
    },
    "id": "eOMZ3Z28kLK7",
    "outputId": "e51488ea-b037-4f61-f6cc-5c6a9ac77cf7"
   },
   "outputs": [
    {
     "data": {
      "text/html": [
       "<div>\n",
       "<style scoped>\n",
       "    .dataframe tbody tr th:only-of-type {\n",
       "        vertical-align: middle;\n",
       "    }\n",
       "\n",
       "    .dataframe tbody tr th {\n",
       "        vertical-align: top;\n",
       "    }\n",
       "\n",
       "    .dataframe thead th {\n",
       "        text-align: right;\n",
       "    }\n",
       "</style>\n",
       "<table border=\"1\" class=\"dataframe\">\n",
       "  <thead>\n",
       "    <tr style=\"text-align: right;\">\n",
       "      <th></th>\n",
       "      <th>host_since</th>\n",
       "      <th>first_review</th>\n",
       "      <th>last_review</th>\n",
       "    </tr>\n",
       "  </thead>\n",
       "  <tbody>\n",
       "    <tr>\n",
       "      <th>0</th>\n",
       "      <td>2010-01-08</td>\n",
       "      <td>2010-07-15</td>\n",
       "      <td>2020-11-19</td>\n",
       "    </tr>\n",
       "    <tr>\n",
       "      <th>1</th>\n",
       "      <td>2012-10-03</td>\n",
       "      <td>2010-06-07</td>\n",
       "      <td>2020-02-15</td>\n",
       "    </tr>\n",
       "    <tr>\n",
       "      <th>2</th>\n",
       "      <td>2010-06-27</td>\n",
       "      <td>2013-10-22</td>\n",
       "      <td>2020-03-15</td>\n",
       "    </tr>\n",
       "  </tbody>\n",
       "</table>\n",
       "</div>"
      ],
      "text/plain": [
       "  host_since first_review last_review\n",
       "0 2010-01-08   2010-07-15  2020-11-19\n",
       "1 2012-10-03   2010-06-07  2020-02-15\n",
       "2 2010-06-27   2013-10-22  2020-03-15"
      ]
     },
     "execution_count": 147,
     "metadata": {},
     "output_type": "execute_result"
    }
   ],
   "source": [
    "# Send dataframe and columns to be converted to datetime\n",
    "listings = convert_list_to_datetime(listings, [\"host_since\", \"first_review\", \"last_review\"])\n",
    "\n",
    "# Print a preview of these columns\n",
    "listings[[\"host_since\", \"first_review\", \"last_review\"]].head(3)"
   ]
  },
  {
   "cell_type": "markdown",
   "metadata": {
    "id": "DlaMS3RnkLK7"
   },
   "source": [
    "## Number of days that is host"
   ]
  },
  {
   "cell_type": "markdown",
   "metadata": {},
   "source": [
    "With dates in hands, lets now get how much time that the host is doing this."
   ]
  },
  {
   "cell_type": "code",
   "execution_count": 148,
   "metadata": {
    "colab": {
     "base_uri": "https://localhost:8080/",
     "height": 136
    },
    "id": "ynVPCrbNkLK7",
    "outputId": "6c80f7ef-e7fd-4cbb-dd6e-c8597b562046"
   },
   "outputs": [
    {
     "data": {
      "text/html": [
       "<div>\n",
       "<style scoped>\n",
       "    .dataframe tbody tr th:only-of-type {\n",
       "        vertical-align: middle;\n",
       "    }\n",
       "\n",
       "    .dataframe tbody tr th {\n",
       "        vertical-align: top;\n",
       "    }\n",
       "\n",
       "    .dataframe thead th {\n",
       "        text-align: right;\n",
       "    }\n",
       "</style>\n",
       "<table border=\"1\" class=\"dataframe\">\n",
       "  <thead>\n",
       "    <tr style=\"text-align: right;\">\n",
       "      <th></th>\n",
       "      <th>host_since_days</th>\n",
       "    </tr>\n",
       "  </thead>\n",
       "  <tbody>\n",
       "    <tr>\n",
       "      <th>0</th>\n",
       "      <td>4011.0</td>\n",
       "    </tr>\n",
       "    <tr>\n",
       "      <th>1</th>\n",
       "      <td>3012.0</td>\n",
       "    </tr>\n",
       "    <tr>\n",
       "      <th>2</th>\n",
       "      <td>3841.0</td>\n",
       "    </tr>\n",
       "  </tbody>\n",
       "</table>\n",
       "</div>"
      ],
      "text/plain": [
       "   host_since_days\n",
       "0           4011.0\n",
       "1           3012.0\n",
       "2           3841.0"
      ]
     },
     "execution_count": 148,
     "metadata": {},
     "output_type": "execute_result"
    }
   ],
   "source": [
    "# Apply function to get how many days since the host are in the platform\n",
    "listings[\"host_since_days\"] = listings[\"host_since\"].apply(get_host_since_days)\n",
    "\n",
    "# Drop \"host_since\" columns\n",
    "listings.drop(\"host_since\", axis = 1, inplace = True)\n",
    "\n",
    "# Print a preview\n",
    "listings[[\"host_since_days\"]].head(3)"
   ]
  },
  {
   "cell_type": "markdown",
   "metadata": {
    "id": "CFyainO3kLK8"
   },
   "source": [
    "## Host Response/Acceptance Rate"
   ]
  },
  {
   "cell_type": "markdown",
   "metadata": {},
   "source": [
    "For some columns representing a percentage, we received strings like \"10%\", to use them we will remove the percentage sign and cast to float."
   ]
  },
  {
   "cell_type": "code",
   "execution_count": 149,
   "metadata": {
    "colab": {
     "base_uri": "https://localhost:8080/",
     "height": 136
    },
    "id": "2i3-IsL9kLK8",
    "outputId": "2737bf11-6fe8-4fc1-c5c7-3bd4e4e1dfb0"
   },
   "outputs": [
    {
     "data": {
      "text/html": [
       "<div>\n",
       "<style scoped>\n",
       "    .dataframe tbody tr th:only-of-type {\n",
       "        vertical-align: middle;\n",
       "    }\n",
       "\n",
       "    .dataframe tbody tr th {\n",
       "        vertical-align: top;\n",
       "    }\n",
       "\n",
       "    .dataframe thead th {\n",
       "        text-align: right;\n",
       "    }\n",
       "</style>\n",
       "<table border=\"1\" class=\"dataframe\">\n",
       "  <thead>\n",
       "    <tr style=\"text-align: right;\">\n",
       "      <th></th>\n",
       "      <th>host_response_rate</th>\n",
       "      <th>host_acceptance_rate</th>\n",
       "    </tr>\n",
       "  </thead>\n",
       "  <tbody>\n",
       "    <tr>\n",
       "      <th>0</th>\n",
       "      <td>100.0</td>\n",
       "      <td>100.0</td>\n",
       "    </tr>\n",
       "    <tr>\n",
       "      <th>1</th>\n",
       "      <td>94.0</td>\n",
       "      <td>70.0</td>\n",
       "    </tr>\n",
       "    <tr>\n",
       "      <th>2</th>\n",
       "      <td>100.0</td>\n",
       "      <td>100.0</td>\n",
       "    </tr>\n",
       "  </tbody>\n",
       "</table>\n",
       "</div>"
      ],
      "text/plain": [
       "   host_response_rate  host_acceptance_rate\n",
       "0               100.0                 100.0\n",
       "1                94.0                  70.0\n",
       "2               100.0                 100.0"
      ]
     },
     "execution_count": 149,
     "metadata": {},
     "output_type": "execute_result"
    }
   ],
   "source": [
    "# Apply convertion from string to float in response rate\n",
    "listings[\"host_response_rate\"] = listings[\"host_response_rate\"].apply(correct_percentage)\n",
    "\n",
    "# Apply convertion from string to float in acceptance rate\n",
    "listings[\"host_acceptance_rate\"] = listings[\"host_acceptance_rate\"].apply(correct_percentage)\n",
    "\n",
    "# Print a preview\n",
    "listings[[\"host_response_rate\", \"host_acceptance_rate\"]].head(3)"
   ]
  },
  {
   "cell_type": "markdown",
   "metadata": {
    "id": "dUOnRygukLK8"
   },
   "source": [
    "## Days reviewing"
   ]
  },
  {
   "cell_type": "markdown",
   "metadata": {},
   "source": [
    "With the first and last day of the review its possible to see how much time this listing is receiving reviews, which can be useful for us to see any influence of this time in our target metrics."
   ]
  },
  {
   "cell_type": "code",
   "execution_count": 150,
   "metadata": {
    "colab": {
     "base_uri": "https://localhost:8080/",
     "height": 136
    },
    "id": "_DGYeIf3kLK8",
    "outputId": "238a624d-b165-4332-ae84-afb7e82b5dc5"
   },
   "outputs": [
    {
     "data": {
      "text/html": [
       "<div>\n",
       "<style scoped>\n",
       "    .dataframe tbody tr th:only-of-type {\n",
       "        vertical-align: middle;\n",
       "    }\n",
       "\n",
       "    .dataframe tbody tr th {\n",
       "        vertical-align: top;\n",
       "    }\n",
       "\n",
       "    .dataframe thead th {\n",
       "        text-align: right;\n",
       "    }\n",
       "</style>\n",
       "<table border=\"1\" class=\"dataframe\">\n",
       "  <thead>\n",
       "    <tr style=\"text-align: right;\">\n",
       "      <th></th>\n",
       "      <th>reviewing_days</th>\n",
       "    </tr>\n",
       "  </thead>\n",
       "  <tbody>\n",
       "    <tr>\n",
       "      <th>0</th>\n",
       "      <td>3780.0</td>\n",
       "    </tr>\n",
       "    <tr>\n",
       "      <th>1</th>\n",
       "      <td>3540.0</td>\n",
       "    </tr>\n",
       "    <tr>\n",
       "      <th>2</th>\n",
       "      <td>2336.0</td>\n",
       "    </tr>\n",
       "  </tbody>\n",
       "</table>\n",
       "</div>"
      ],
      "text/plain": [
       "   reviewing_days\n",
       "0          3780.0\n",
       "1          3540.0\n",
       "2          2336.0"
      ]
     },
     "execution_count": 150,
     "metadata": {},
     "output_type": "execute_result"
    }
   ],
   "source": [
    "# Apply get reviewing days \n",
    "listings[\"reviewing_days\"] = listings.apply(lambda x: get_review_days(x), axis = 1)\n",
    "\n",
    "# Drop columns already used\n",
    "listings.drop([\"last_review\", \"first_review\"], axis = 1, inplace = True)\n",
    "\n",
    "# Print preview\n",
    "listings[[\"reviewing_days\"]].head(3)"
   ]
  },
  {
   "cell_type": "markdown",
   "metadata": {
    "id": "atESCDqSkLK9"
   },
   "source": [
    "## Price"
   ]
  },
  {
   "cell_type": "markdown",
   "metadata": {},
   "source": [
    "For the price we will need to transform the string that we received as \"100$\" for example, in a float number like \"100\"."
   ]
  },
  {
   "cell_type": "code",
   "execution_count": 151,
   "metadata": {
    "colab": {
     "base_uri": "https://localhost:8080/",
     "height": 136
    },
    "id": "hPJ6IzBHkLK9",
    "outputId": "c8e8f423-8554-4a95-d744-8ce2b8315da8"
   },
   "outputs": [
    {
     "data": {
      "text/html": [
       "<div>\n",
       "<style scoped>\n",
       "    .dataframe tbody tr th:only-of-type {\n",
       "        vertical-align: middle;\n",
       "    }\n",
       "\n",
       "    .dataframe tbody tr th {\n",
       "        vertical-align: top;\n",
       "    }\n",
       "\n",
       "    .dataframe thead th {\n",
       "        text-align: right;\n",
       "    }\n",
       "</style>\n",
       "<table border=\"1\" class=\"dataframe\">\n",
       "  <thead>\n",
       "    <tr style=\"text-align: right;\">\n",
       "      <th></th>\n",
       "      <th>price</th>\n",
       "    </tr>\n",
       "  </thead>\n",
       "  <tbody>\n",
       "    <tr>\n",
       "      <th>0</th>\n",
       "      <td>164.0</td>\n",
       "    </tr>\n",
       "    <tr>\n",
       "      <th>1</th>\n",
       "      <td>160.0</td>\n",
       "    </tr>\n",
       "    <tr>\n",
       "      <th>2</th>\n",
       "      <td>267.0</td>\n",
       "    </tr>\n",
       "  </tbody>\n",
       "</table>\n",
       "</div>"
      ],
      "text/plain": [
       "   price\n",
       "0  164.0\n",
       "1  160.0\n",
       "2  267.0"
      ]
     },
     "execution_count": 151,
     "metadata": {},
     "output_type": "execute_result"
    }
   ],
   "source": [
    "# Apply convertion to price\n",
    "listings[\"price\"] = listings[\"price\"].apply(correct_price)\n",
    "\n",
    "# Print preview\n",
    "listings[[\"price\"]].head(3)"
   ]
  },
  {
   "cell_type": "markdown",
   "metadata": {
    "id": "P-zSYu8okLK9"
   },
   "source": [
    "## Host Response Time"
   ]
  },
  {
   "cell_type": "markdown",
   "metadata": {},
   "source": [
    "For the response time, we received 5 types of response, \"within an hour\", \"within a few hours\", \"within a day\", \"a few days or more\", and nothing, or no response. To see the importance of each type we will divide the column into dummy variables."
   ]
  },
  {
   "cell_type": "code",
   "execution_count": 152,
   "metadata": {
    "colab": {
     "base_uri": "https://localhost:8080/",
     "height": 136
    },
    "id": "mFCqWAVGkLK9",
    "outputId": "9b346f3e-4e1d-428f-e3e9-42fb53eded52"
   },
   "outputs": [
    {
     "data": {
      "text/html": [
       "<div>\n",
       "<style scoped>\n",
       "    .dataframe tbody tr th:only-of-type {\n",
       "        vertical-align: middle;\n",
       "    }\n",
       "\n",
       "    .dataframe tbody tr th {\n",
       "        vertical-align: top;\n",
       "    }\n",
       "\n",
       "    .dataframe thead th {\n",
       "        text-align: right;\n",
       "    }\n",
       "</style>\n",
       "<table border=\"1\" class=\"dataframe\">\n",
       "  <thead>\n",
       "    <tr style=\"text-align: right;\">\n",
       "      <th></th>\n",
       "      <th>host_resp_t_a few days or more</th>\n",
       "      <th>host_resp_t_within a day</th>\n",
       "      <th>host_resp_t_within a few hours</th>\n",
       "      <th>host_resp_t_within an hour</th>\n",
       "      <th>host_resp_t_nan</th>\n",
       "    </tr>\n",
       "  </thead>\n",
       "  <tbody>\n",
       "    <tr>\n",
       "      <th>0</th>\n",
       "      <td>0</td>\n",
       "      <td>0</td>\n",
       "      <td>0</td>\n",
       "      <td>1</td>\n",
       "      <td>0</td>\n",
       "    </tr>\n",
       "    <tr>\n",
       "      <th>1</th>\n",
       "      <td>0</td>\n",
       "      <td>0</td>\n",
       "      <td>0</td>\n",
       "      <td>1</td>\n",
       "      <td>0</td>\n",
       "    </tr>\n",
       "    <tr>\n",
       "      <th>2</th>\n",
       "      <td>0</td>\n",
       "      <td>0</td>\n",
       "      <td>0</td>\n",
       "      <td>1</td>\n",
       "      <td>0</td>\n",
       "    </tr>\n",
       "  </tbody>\n",
       "</table>\n",
       "</div>"
      ],
      "text/plain": [
       "   host_resp_t_a few days or more  host_resp_t_within a day  \\\n",
       "0                               0                         0   \n",
       "1                               0                         0   \n",
       "2                               0                         0   \n",
       "\n",
       "   host_resp_t_within a few hours  host_resp_t_within an hour  host_resp_t_nan  \n",
       "0                               0                           1                0  \n",
       "1                               0                           1                0  \n",
       "2                               0                           1                0  "
      ]
     },
     "execution_count": 152,
     "metadata": {},
     "output_type": "execute_result"
    }
   ],
   "source": [
    "# Fill Null values as \"No response\"\n",
    "listings[\"host_response_time\"].fillna(\"No response\", inplace = True)\n",
    "\n",
    "# Get dummy variables for host_response_time\n",
    "dummies_host_response_t = pd.get_dummies(listings[\"host_response_time\"], prefix = \"host_resp_t\"\n",
    "                                           , prefix_sep = \"_\", drop_first = True, dummy_na = True)\n",
    "\n",
    "# Concatenate initial dataframe with dummies\n",
    "listings = pd.concat([dummies_host_response_t, listings], axis = 1)\n",
    "\n",
    "# Drop initial column\n",
    "listings.drop(\"host_response_time\", axis = 1, inplace = True)\n",
    "\n",
    "# Print preview\n",
    "dummies_host_response_t.head(3)"
   ]
  },
  {
   "cell_type": "markdown",
   "metadata": {
    "id": "MjEhnozAkLK9"
   },
   "source": [
    "## Handling with Null Values"
   ]
  },
  {
   "cell_type": "markdown",
   "metadata": {},
   "source": [
    "Checking the number of null values per column we can see that a lot of the columns have a significant number of them, so we will need to apply some techniques to fix it."
   ]
  },
  {
   "cell_type": "code",
   "execution_count": 153,
   "metadata": {
    "colab": {
     "base_uri": "https://localhost:8080/",
     "height": 935
    },
    "id": "7eiuLf1kkLK-",
    "outputId": "105ccc1c-a9cb-4a07-aebb-458d909650cf"
   },
   "outputs": [
    {
     "data": {
      "text/html": [
       "<div>\n",
       "<style scoped>\n",
       "    .dataframe tbody tr th:only-of-type {\n",
       "        vertical-align: middle;\n",
       "    }\n",
       "\n",
       "    .dataframe tbody tr th {\n",
       "        vertical-align: top;\n",
       "    }\n",
       "\n",
       "    .dataframe thead th {\n",
       "        text-align: right;\n",
       "    }\n",
       "</style>\n",
       "<table border=\"1\" class=\"dataframe\">\n",
       "  <thead>\n",
       "    <tr style=\"text-align: right;\">\n",
       "      <th></th>\n",
       "      <th>null_percent</th>\n",
       "    </tr>\n",
       "  </thead>\n",
       "  <tbody>\n",
       "    <tr>\n",
       "      <th>calendar_updated</th>\n",
       "      <td>100.000000</td>\n",
       "    </tr>\n",
       "    <tr>\n",
       "      <th>bathrooms</th>\n",
       "      <td>100.000000</td>\n",
       "    </tr>\n",
       "    <tr>\n",
       "      <th>license</th>\n",
       "      <td>100.000000</td>\n",
       "    </tr>\n",
       "    <tr>\n",
       "      <th>neighbourhood_group_cleansed</th>\n",
       "      <td>100.000000</td>\n",
       "    </tr>\n",
       "    <tr>\n",
       "      <th>neighbourhood</th>\n",
       "      <td>44.852316</td>\n",
       "    </tr>\n",
       "    <tr>\n",
       "      <th>host_neighbourhood</th>\n",
       "      <td>40.391394</td>\n",
       "    </tr>\n",
       "    <tr>\n",
       "      <th>review_scores_rating</th>\n",
       "      <td>39.269073</td>\n",
       "    </tr>\n",
       "    <tr>\n",
       "      <th>reviewing_days</th>\n",
       "      <td>37.052794</td>\n",
       "    </tr>\n",
       "    <tr>\n",
       "      <th>reviews_per_month</th>\n",
       "      <td>37.052794</td>\n",
       "    </tr>\n",
       "    <tr>\n",
       "      <th>host_acceptance_rate</th>\n",
       "      <td>26.554840</td>\n",
       "    </tr>\n",
       "    <tr>\n",
       "      <th>host_response_rate</th>\n",
       "      <td>26.400875</td>\n",
       "    </tr>\n",
       "    <tr>\n",
       "      <th>bedrooms</th>\n",
       "      <td>6.474616</td>\n",
       "    </tr>\n",
       "    <tr>\n",
       "      <th>beds</th>\n",
       "      <td>0.923788</td>\n",
       "    </tr>\n",
       "    <tr>\n",
       "      <th>bathrooms_text</th>\n",
       "      <td>0.275516</td>\n",
       "    </tr>\n",
       "    <tr>\n",
       "      <th>host_since_days</th>\n",
       "      <td>0.036465</td>\n",
       "    </tr>\n",
       "    <tr>\n",
       "      <th>host_listings_count</th>\n",
       "      <td>0.036465</td>\n",
       "    </tr>\n",
       "    <tr>\n",
       "      <th>host_is_superhost</th>\n",
       "      <td>0.036465</td>\n",
       "    </tr>\n",
       "    <tr>\n",
       "      <th>host_identity_verified</th>\n",
       "      <td>0.036465</td>\n",
       "    </tr>\n",
       "    <tr>\n",
       "      <th>host_has_profile_pic</th>\n",
       "      <td>0.036465</td>\n",
       "    </tr>\n",
       "    <tr>\n",
       "      <th>host_total_listings_count</th>\n",
       "      <td>0.036465</td>\n",
       "    </tr>\n",
       "    <tr>\n",
       "      <th>number_of_reviews</th>\n",
       "      <td>0.000000</td>\n",
       "    </tr>\n",
       "    <tr>\n",
       "      <th>availability_90</th>\n",
       "      <td>0.000000</td>\n",
       "    </tr>\n",
       "    <tr>\n",
       "      <th>availability_365</th>\n",
       "      <td>0.000000</td>\n",
       "    </tr>\n",
       "    <tr>\n",
       "      <th>availability_30</th>\n",
       "      <td>0.000000</td>\n",
       "    </tr>\n",
       "    <tr>\n",
       "      <th>has_availability</th>\n",
       "      <td>0.000000</td>\n",
       "    </tr>\n",
       "    <tr>\n",
       "      <th>availability_60</th>\n",
       "      <td>0.000000</td>\n",
       "    </tr>\n",
       "    <tr>\n",
       "      <th>number_of_reviews_l30d</th>\n",
       "      <td>0.000000</td>\n",
       "    </tr>\n",
       "    <tr>\n",
       "      <th>number_of_reviews_ltm</th>\n",
       "      <td>0.000000</td>\n",
       "    </tr>\n",
       "    <tr>\n",
       "      <th>calculated_host_listings_count_shared_rooms</th>\n",
       "      <td>0.000000</td>\n",
       "    </tr>\n",
       "    <tr>\n",
       "      <th>instant_bookable</th>\n",
       "      <td>0.000000</td>\n",
       "    </tr>\n",
       "  </tbody>\n",
       "</table>\n",
       "</div>"
      ],
      "text/plain": [
       "                                             null_percent\n",
       "calendar_updated                               100.000000\n",
       "bathrooms                                      100.000000\n",
       "license                                        100.000000\n",
       "neighbourhood_group_cleansed                   100.000000\n",
       "neighbourhood                                   44.852316\n",
       "host_neighbourhood                              40.391394\n",
       "review_scores_rating                            39.269073\n",
       "reviewing_days                                  37.052794\n",
       "reviews_per_month                               37.052794\n",
       "host_acceptance_rate                            26.554840\n",
       "host_response_rate                              26.400875\n",
       "bedrooms                                         6.474616\n",
       "beds                                             0.923788\n",
       "bathrooms_text                                   0.275516\n",
       "host_since_days                                  0.036465\n",
       "host_listings_count                              0.036465\n",
       "host_is_superhost                                0.036465\n",
       "host_identity_verified                           0.036465\n",
       "host_has_profile_pic                             0.036465\n",
       "host_total_listings_count                        0.036465\n",
       "number_of_reviews                                0.000000\n",
       "availability_90                                  0.000000\n",
       "availability_365                                 0.000000\n",
       "availability_30                                  0.000000\n",
       "has_availability                                 0.000000\n",
       "availability_60                                  0.000000\n",
       "number_of_reviews_l30d                           0.000000\n",
       "number_of_reviews_ltm                            0.000000\n",
       "calculated_host_listings_count_shared_rooms      0.000000\n",
       "instant_bookable                                 0.000000"
      ]
     },
     "execution_count": 153,
     "metadata": {},
     "output_type": "execute_result"
    }
   ],
   "source": [
    "# Get percentage of null values per each column\n",
    "get_null_percent_df(listings).head(30)"
   ]
  },
  {
   "cell_type": "markdown",
   "metadata": {
    "id": "tKUf4Z5HkLK-"
   },
   "source": [
    "### Removing Null Columns"
   ]
  },
  {
   "cell_type": "markdown",
   "metadata": {},
   "source": [
    "Columns with more than 40% of null values will not be useful for us, so the first step must be remove them."
   ]
  },
  {
   "cell_type": "code",
   "execution_count": 154,
   "metadata": {
    "colab": {
     "base_uri": "https://localhost:8080/",
     "height": 408
    },
    "id": "O0lnLa8gkLK-",
    "outputId": "3b289118-c858-4560-cd15-9b87cad96d8c"
   },
   "outputs": [
    {
     "name": "stdout",
     "output_type": "stream",
     "text": [
      "Number of instances:\t 24681 \n",
      "Number of features:\t 49\n"
     ]
    },
    {
     "data": {
      "text/html": [
       "<div>\n",
       "<style scoped>\n",
       "    .dataframe tbody tr th:only-of-type {\n",
       "        vertical-align: middle;\n",
       "    }\n",
       "\n",
       "    .dataframe tbody tr th {\n",
       "        vertical-align: top;\n",
       "    }\n",
       "\n",
       "    .dataframe thead th {\n",
       "        text-align: right;\n",
       "    }\n",
       "</style>\n",
       "<table border=\"1\" class=\"dataframe\">\n",
       "  <thead>\n",
       "    <tr style=\"text-align: right;\">\n",
       "      <th></th>\n",
       "      <th>host_resp_t_a few days or more</th>\n",
       "      <th>host_resp_t_within a day</th>\n",
       "      <th>host_resp_t_within a few hours</th>\n",
       "      <th>host_resp_t_within an hour</th>\n",
       "      <th>host_resp_t_nan</th>\n",
       "      <th>host_response_rate</th>\n",
       "      <th>host_acceptance_rate</th>\n",
       "      <th>host_is_superhost</th>\n",
       "      <th>host_listings_count</th>\n",
       "      <th>host_total_listings_count</th>\n",
       "      <th>host_verifications</th>\n",
       "      <th>host_has_profile_pic</th>\n",
       "      <th>host_identity_verified</th>\n",
       "      <th>neighbourhood_cleansed</th>\n",
       "      <th>latitude</th>\n",
       "      <th>longitude</th>\n",
       "      <th>property_type</th>\n",
       "      <th>room_type</th>\n",
       "      <th>accommodates</th>\n",
       "      <th>bathrooms_text</th>\n",
       "      <th>bedrooms</th>\n",
       "      <th>beds</th>\n",
       "      <th>amenities</th>\n",
       "      <th>price</th>\n",
       "      <th>minimum_nights</th>\n",
       "      <th>maximum_nights</th>\n",
       "      <th>minimum_minimum_nights</th>\n",
       "      <th>maximum_minimum_nights</th>\n",
       "      <th>minimum_maximum_nights</th>\n",
       "      <th>maximum_maximum_nights</th>\n",
       "      <th>minimum_nights_avg_ntm</th>\n",
       "      <th>maximum_nights_avg_ntm</th>\n",
       "      <th>has_availability</th>\n",
       "      <th>availability_30</th>\n",
       "      <th>availability_60</th>\n",
       "      <th>availability_90</th>\n",
       "      <th>availability_365</th>\n",
       "      <th>number_of_reviews</th>\n",
       "      <th>number_of_reviews_ltm</th>\n",
       "      <th>number_of_reviews_l30d</th>\n",
       "      <th>review_scores_rating</th>\n",
       "      <th>instant_bookable</th>\n",
       "      <th>calculated_host_listings_count</th>\n",
       "      <th>calculated_host_listings_count_entire_homes</th>\n",
       "      <th>calculated_host_listings_count_private_rooms</th>\n",
       "      <th>calculated_host_listings_count_shared_rooms</th>\n",
       "      <th>reviews_per_month</th>\n",
       "      <th>host_since_days</th>\n",
       "      <th>reviewing_days</th>\n",
       "    </tr>\n",
       "  </thead>\n",
       "  <tbody>\n",
       "    <tr>\n",
       "      <th>0</th>\n",
       "      <td>0</td>\n",
       "      <td>0</td>\n",
       "      <td>0</td>\n",
       "      <td>1</td>\n",
       "      <td>0</td>\n",
       "      <td>100.0</td>\n",
       "      <td>100.0</td>\n",
       "      <td>t</td>\n",
       "      <td>2.0</td>\n",
       "      <td>2.0</td>\n",
       "      <td>['email', 'phone', 'reviews', 'jumio', 'offlin...</td>\n",
       "      <td>t</td>\n",
       "      <td>t</td>\n",
       "      <td>Copacabana</td>\n",
       "      <td>-22.96592</td>\n",
       "      <td>-43.17896</td>\n",
       "      <td>Entire condominium</td>\n",
       "      <td>Entire home/apt</td>\n",
       "      <td>5</td>\n",
       "      <td>1 bath</td>\n",
       "      <td>2.0</td>\n",
       "      <td>2.0</td>\n",
       "      <td>[\"Patio or balcony\", \"Cooking basics\", \"Dedica...</td>\n",
       "      <td>164.0</td>\n",
       "      <td>5</td>\n",
       "      <td>180</td>\n",
       "      <td>5</td>\n",
       "      <td>5</td>\n",
       "      <td>1125</td>\n",
       "      <td>1125</td>\n",
       "      <td>5.0</td>\n",
       "      <td>1125.0</td>\n",
       "      <td>t</td>\n",
       "      <td>0</td>\n",
       "      <td>0</td>\n",
       "      <td>0</td>\n",
       "      <td>0</td>\n",
       "      <td>257</td>\n",
       "      <td>12</td>\n",
       "      <td>2</td>\n",
       "      <td>93.0</td>\n",
       "      <td>t</td>\n",
       "      <td>1</td>\n",
       "      <td>1</td>\n",
       "      <td>0</td>\n",
       "      <td>0</td>\n",
       "      <td>2.03</td>\n",
       "      <td>4011.0</td>\n",
       "      <td>3780.0</td>\n",
       "    </tr>\n",
       "    <tr>\n",
       "      <th>1</th>\n",
       "      <td>0</td>\n",
       "      <td>0</td>\n",
       "      <td>0</td>\n",
       "      <td>1</td>\n",
       "      <td>0</td>\n",
       "      <td>94.0</td>\n",
       "      <td>70.0</td>\n",
       "      <td>f</td>\n",
       "      <td>12.0</td>\n",
       "      <td>12.0</td>\n",
       "      <td>['reviews', 'jumio', 'offline_government_id', ...</td>\n",
       "      <td>t</td>\n",
       "      <td>f</td>\n",
       "      <td>Copacabana</td>\n",
       "      <td>-22.97712</td>\n",
       "      <td>-43.19045</td>\n",
       "      <td>Entire apartment</td>\n",
       "      <td>Entire home/apt</td>\n",
       "      <td>2</td>\n",
       "      <td>1 bath</td>\n",
       "      <td>1.0</td>\n",
       "      <td>2.0</td>\n",
       "      <td>[\"Air conditioning\", \"Bed linens\", \"TV\", \"Esse...</td>\n",
       "      <td>160.0</td>\n",
       "      <td>7</td>\n",
       "      <td>60</td>\n",
       "      <td>7</td>\n",
       "      <td>7</td>\n",
       "      <td>60</td>\n",
       "      <td>60</td>\n",
       "      <td>7.0</td>\n",
       "      <td>60.0</td>\n",
       "      <td>t</td>\n",
       "      <td>0</td>\n",
       "      <td>10</td>\n",
       "      <td>33</td>\n",
       "      <td>308</td>\n",
       "      <td>238</td>\n",
       "      <td>4</td>\n",
       "      <td>0</td>\n",
       "      <td>94.0</td>\n",
       "      <td>f</td>\n",
       "      <td>11</td>\n",
       "      <td>11</td>\n",
       "      <td>0</td>\n",
       "      <td>0</td>\n",
       "      <td>1.87</td>\n",
       "      <td>3012.0</td>\n",
       "      <td>3540.0</td>\n",
       "    </tr>\n",
       "    <tr>\n",
       "      <th>2</th>\n",
       "      <td>0</td>\n",
       "      <td>0</td>\n",
       "      <td>0</td>\n",
       "      <td>1</td>\n",
       "      <td>0</td>\n",
       "      <td>100.0</td>\n",
       "      <td>100.0</td>\n",
       "      <td>f</td>\n",
       "      <td>1.0</td>\n",
       "      <td>1.0</td>\n",
       "      <td>['email', 'phone', 'facebook', 'reviews', 'man...</td>\n",
       "      <td>t</td>\n",
       "      <td>t</td>\n",
       "      <td>Ipanema</td>\n",
       "      <td>-22.98816</td>\n",
       "      <td>-43.19359</td>\n",
       "      <td>Entire apartment</td>\n",
       "      <td>Entire home/apt</td>\n",
       "      <td>2</td>\n",
       "      <td>1.5 baths</td>\n",
       "      <td>1.0</td>\n",
       "      <td>1.0</td>\n",
       "      <td>[\"Hot water\", \"Cooking basics\", \"Elevator\", \"L...</td>\n",
       "      <td>267.0</td>\n",
       "      <td>2</td>\n",
       "      <td>89</td>\n",
       "      <td>2</td>\n",
       "      <td>2</td>\n",
       "      <td>89</td>\n",
       "      <td>89</td>\n",
       "      <td>2.0</td>\n",
       "      <td>89.0</td>\n",
       "      <td>t</td>\n",
       "      <td>0</td>\n",
       "      <td>0</td>\n",
       "      <td>0</td>\n",
       "      <td>242</td>\n",
       "      <td>181</td>\n",
       "      <td>11</td>\n",
       "      <td>0</td>\n",
       "      <td>94.0</td>\n",
       "      <td>f</td>\n",
       "      <td>1</td>\n",
       "      <td>1</td>\n",
       "      <td>0</td>\n",
       "      <td>0</td>\n",
       "      <td>2.09</td>\n",
       "      <td>3841.0</td>\n",
       "      <td>2336.0</td>\n",
       "    </tr>\n",
       "  </tbody>\n",
       "</table>\n",
       "</div>"
      ],
      "text/plain": [
       "   host_resp_t_a few days or more  host_resp_t_within a day  \\\n",
       "0                               0                         0   \n",
       "1                               0                         0   \n",
       "2                               0                         0   \n",
       "\n",
       "   host_resp_t_within a few hours  host_resp_t_within an hour  \\\n",
       "0                               0                           1   \n",
       "1                               0                           1   \n",
       "2                               0                           1   \n",
       "\n",
       "   host_resp_t_nan  host_response_rate  host_acceptance_rate  \\\n",
       "0                0               100.0                 100.0   \n",
       "1                0                94.0                  70.0   \n",
       "2                0               100.0                 100.0   \n",
       "\n",
       "  host_is_superhost  host_listings_count  host_total_listings_count  \\\n",
       "0                 t                  2.0                        2.0   \n",
       "1                 f                 12.0                       12.0   \n",
       "2                 f                  1.0                        1.0   \n",
       "\n",
       "                                  host_verifications host_has_profile_pic  \\\n",
       "0  ['email', 'phone', 'reviews', 'jumio', 'offlin...                    t   \n",
       "1  ['reviews', 'jumio', 'offline_government_id', ...                    t   \n",
       "2  ['email', 'phone', 'facebook', 'reviews', 'man...                    t   \n",
       "\n",
       "  host_identity_verified neighbourhood_cleansed  latitude  longitude  \\\n",
       "0                      t             Copacabana -22.96592  -43.17896   \n",
       "1                      f             Copacabana -22.97712  -43.19045   \n",
       "2                      t                Ipanema -22.98816  -43.19359   \n",
       "\n",
       "        property_type        room_type  accommodates bathrooms_text  bedrooms  \\\n",
       "0  Entire condominium  Entire home/apt             5         1 bath       2.0   \n",
       "1    Entire apartment  Entire home/apt             2         1 bath       1.0   \n",
       "2    Entire apartment  Entire home/apt             2      1.5 baths       1.0   \n",
       "\n",
       "   beds                                          amenities  price  \\\n",
       "0   2.0  [\"Patio or balcony\", \"Cooking basics\", \"Dedica...  164.0   \n",
       "1   2.0  [\"Air conditioning\", \"Bed linens\", \"TV\", \"Esse...  160.0   \n",
       "2   1.0  [\"Hot water\", \"Cooking basics\", \"Elevator\", \"L...  267.0   \n",
       "\n",
       "   minimum_nights  maximum_nights  minimum_minimum_nights  \\\n",
       "0               5             180                       5   \n",
       "1               7              60                       7   \n",
       "2               2              89                       2   \n",
       "\n",
       "   maximum_minimum_nights  minimum_maximum_nights  maximum_maximum_nights  \\\n",
       "0                       5                    1125                    1125   \n",
       "1                       7                      60                      60   \n",
       "2                       2                      89                      89   \n",
       "\n",
       "   minimum_nights_avg_ntm  maximum_nights_avg_ntm has_availability  \\\n",
       "0                     5.0                  1125.0                t   \n",
       "1                     7.0                    60.0                t   \n",
       "2                     2.0                    89.0                t   \n",
       "\n",
       "   availability_30  availability_60  availability_90  availability_365  \\\n",
       "0                0                0                0                 0   \n",
       "1                0               10               33               308   \n",
       "2                0                0                0               242   \n",
       "\n",
       "   number_of_reviews  number_of_reviews_ltm  number_of_reviews_l30d  \\\n",
       "0                257                     12                       2   \n",
       "1                238                      4                       0   \n",
       "2                181                     11                       0   \n",
       "\n",
       "   review_scores_rating instant_bookable  calculated_host_listings_count  \\\n",
       "0                  93.0                t                               1   \n",
       "1                  94.0                f                              11   \n",
       "2                  94.0                f                               1   \n",
       "\n",
       "   calculated_host_listings_count_entire_homes  \\\n",
       "0                                            1   \n",
       "1                                           11   \n",
       "2                                            1   \n",
       "\n",
       "   calculated_host_listings_count_private_rooms  \\\n",
       "0                                             0   \n",
       "1                                             0   \n",
       "2                                             0   \n",
       "\n",
       "   calculated_host_listings_count_shared_rooms  reviews_per_month  \\\n",
       "0                                            0               2.03   \n",
       "1                                            0               1.87   \n",
       "2                                            0               2.09   \n",
       "\n",
       "   host_since_days  reviewing_days  \n",
       "0           4011.0          3780.0  \n",
       "1           3012.0          3540.0  \n",
       "2           3841.0          2336.0  "
      ]
     },
     "execution_count": 154,
     "metadata": {},
     "output_type": "execute_result"
    }
   ],
   "source": [
    "# Remove columns with more than 40% of null values\n",
    "listings = remove_null_columns(listings, threshold = 0.40)\n",
    "\n",
    "# Print new dataframe shape\n",
    "df_shape(listings)\n",
    "\n",
    "# Print preview\n",
    "listings.head(3)"
   ]
  },
  {
   "cell_type": "markdown",
   "metadata": {
    "id": "fmK-8yCpkLK-"
   },
   "source": [
    "### Filling Bool Null Values with False"
   ]
  },
  {
   "cell_type": "markdown",
   "metadata": {},
   "source": [
    "For the bool columns we will suppose that the empty value has the same meaning as \"False\", so in this situation we will fill the null values as zero."
   ]
  },
  {
   "cell_type": "code",
   "execution_count": 155,
   "metadata": {
    "colab": {
     "base_uri": "https://localhost:8080/",
     "height": 136
    },
    "id": "X4CWEc6KkLK-",
    "outputId": "6021dad0-cf8e-4454-b2fe-c54e98bb8766"
   },
   "outputs": [
    {
     "data": {
      "text/html": [
       "<div>\n",
       "<style scoped>\n",
       "    .dataframe tbody tr th:only-of-type {\n",
       "        vertical-align: middle;\n",
       "    }\n",
       "\n",
       "    .dataframe tbody tr th {\n",
       "        vertical-align: top;\n",
       "    }\n",
       "\n",
       "    .dataframe thead th {\n",
       "        text-align: right;\n",
       "    }\n",
       "</style>\n",
       "<table border=\"1\" class=\"dataframe\">\n",
       "  <thead>\n",
       "    <tr style=\"text-align: right;\">\n",
       "      <th></th>\n",
       "      <th>host_is_superhost</th>\n",
       "      <th>host_has_profile_pic</th>\n",
       "      <th>host_identity_verified</th>\n",
       "      <th>has_availability</th>\n",
       "      <th>instant_bookable</th>\n",
       "    </tr>\n",
       "  </thead>\n",
       "  <tbody>\n",
       "    <tr>\n",
       "      <th>0</th>\n",
       "      <td>1</td>\n",
       "      <td>1</td>\n",
       "      <td>1</td>\n",
       "      <td>1</td>\n",
       "      <td>1</td>\n",
       "    </tr>\n",
       "    <tr>\n",
       "      <th>1</th>\n",
       "      <td>0</td>\n",
       "      <td>1</td>\n",
       "      <td>0</td>\n",
       "      <td>1</td>\n",
       "      <td>0</td>\n",
       "    </tr>\n",
       "    <tr>\n",
       "      <th>2</th>\n",
       "      <td>0</td>\n",
       "      <td>1</td>\n",
       "      <td>1</td>\n",
       "      <td>1</td>\n",
       "      <td>0</td>\n",
       "    </tr>\n",
       "  </tbody>\n",
       "</table>\n",
       "</div>"
      ],
      "text/plain": [
       "   host_is_superhost  host_has_profile_pic  host_identity_verified  \\\n",
       "0                  1                     1                       1   \n",
       "1                  0                     1                       0   \n",
       "2                  0                     1                       1   \n",
       "\n",
       "   has_availability  instant_bookable  \n",
       "0                 1                 1  \n",
       "1                 1                 0  \n",
       "2                 1                 0  "
      ]
     },
     "execution_count": 155,
     "metadata": {},
     "output_type": "execute_result"
    }
   ],
   "source": [
    "# List of columns with bool value\n",
    "bool_column_list = [\"host_is_superhost\", \"host_has_profile_pic\", \"host_identity_verified\"\n",
    "                    , \"has_availability\", \"instant_bookable\"]\n",
    "\n",
    "# Apply bool to int for each column\n",
    "for col_name in bool_column_list:\n",
    "    listings[col_name] = listings[col_name].apply(bool_to_int)\n",
    "    \n",
    "# Print preview\n",
    "listings[bool_column_list].head(3)"
   ]
  },
  {
   "cell_type": "markdown",
   "metadata": {
    "id": "iwvCD60AkLK_"
   },
   "source": [
    "### Fill Numeric Null Values with Zero"
   ]
  },
  {
   "cell_type": "markdown",
   "metadata": {},
   "source": [
    "Something similar to the situation before, for the empty values in the numeric columns we can suppose that null values are the same as zero values. So we will fill the NA values with zero."
   ]
  },
  {
   "cell_type": "code",
   "execution_count": 156,
   "metadata": {
    "id": "P0cFZpOGkLK_"
   },
   "outputs": [],
   "source": [
    "# Set list of columns to fill with zero\n",
    "zero_fill_column_list = [\"review_scores_rating\", \"reviews_per_month\", \"reviewing_days\"\n",
    "    , \"host_acceptance_rate\", \"host_response_rate\", \"host_since_days\", \"bedrooms\", \"beds\"\n",
    "    , \"host_total_listings_count\", \"host_listings_count\"]\n",
    "\n",
    "# Iterate over the list filling with zero the null values\n",
    "for col_name in zero_fill_column_list:\n",
    "    listings[col_name].fillna(0, inplace = True)"
   ]
  },
  {
   "cell_type": "markdown",
   "metadata": {
    "id": "CyrTIjjrkLK_"
   },
   "source": [
    "### Fill Categorical Null Values with Most Frequent Value"
   ]
  },
  {
   "cell_type": "markdown",
   "metadata": {},
   "source": [
    "For the categorical features, we will fill with the mode, or the most frequent value, something similar to the \"mean\" for numeric features."
   ]
  },
  {
   "cell_type": "code",
   "execution_count": 157,
   "metadata": {
    "id": "dVu5M4JUkLK_"
   },
   "outputs": [],
   "source": [
    "# Set list of columns to fill with most frequent value (categorical ones)\n",
    "mode_fill_column_list = [\"bathrooms_text\"]\n",
    "\n",
    "# Iterate over the list to fill with mode\n",
    "for col_name in mode_fill_column_list:\n",
    "    listings[col_name].fillna(listings[col_name].mode()[0], inplace = True)"
   ]
  },
  {
   "cell_type": "markdown",
   "metadata": {},
   "source": [
    "### Done with null values! :)"
   ]
  },
  {
   "cell_type": "code",
   "execution_count": 158,
   "metadata": {
    "colab": {
     "base_uri": "https://localhost:8080/",
     "height": 343
    },
    "id": "G7n7D8bOkLK_",
    "outputId": "899a0839-533a-4e6a-c30c-1debe7532b58"
   },
   "outputs": [
    {
     "data": {
      "text/html": [
       "<div>\n",
       "<style scoped>\n",
       "    .dataframe tbody tr th:only-of-type {\n",
       "        vertical-align: middle;\n",
       "    }\n",
       "\n",
       "    .dataframe tbody tr th {\n",
       "        vertical-align: top;\n",
       "    }\n",
       "\n",
       "    .dataframe thead th {\n",
       "        text-align: right;\n",
       "    }\n",
       "</style>\n",
       "<table border=\"1\" class=\"dataframe\">\n",
       "  <thead>\n",
       "    <tr style=\"text-align: right;\">\n",
       "      <th></th>\n",
       "      <th>null_percent</th>\n",
       "    </tr>\n",
       "  </thead>\n",
       "  <tbody>\n",
       "    <tr>\n",
       "      <th>host_resp_t_a few days or more</th>\n",
       "      <td>0.0</td>\n",
       "    </tr>\n",
       "    <tr>\n",
       "      <th>maximum_nights</th>\n",
       "      <td>0.0</td>\n",
       "    </tr>\n",
       "    <tr>\n",
       "      <th>maximum_minimum_nights</th>\n",
       "      <td>0.0</td>\n",
       "    </tr>\n",
       "    <tr>\n",
       "      <th>minimum_maximum_nights</th>\n",
       "      <td>0.0</td>\n",
       "    </tr>\n",
       "    <tr>\n",
       "      <th>maximum_maximum_nights</th>\n",
       "      <td>0.0</td>\n",
       "    </tr>\n",
       "    <tr>\n",
       "      <th>minimum_nights_avg_ntm</th>\n",
       "      <td>0.0</td>\n",
       "    </tr>\n",
       "    <tr>\n",
       "      <th>maximum_nights_avg_ntm</th>\n",
       "      <td>0.0</td>\n",
       "    </tr>\n",
       "    <tr>\n",
       "      <th>has_availability</th>\n",
       "      <td>0.0</td>\n",
       "    </tr>\n",
       "    <tr>\n",
       "      <th>availability_30</th>\n",
       "      <td>0.0</td>\n",
       "    </tr>\n",
       "    <tr>\n",
       "      <th>availability_60</th>\n",
       "      <td>0.0</td>\n",
       "    </tr>\n",
       "  </tbody>\n",
       "</table>\n",
       "</div>"
      ],
      "text/plain": [
       "                                null_percent\n",
       "host_resp_t_a few days or more           0.0\n",
       "maximum_nights                           0.0\n",
       "maximum_minimum_nights                   0.0\n",
       "minimum_maximum_nights                   0.0\n",
       "maximum_maximum_nights                   0.0\n",
       "minimum_nights_avg_ntm                   0.0\n",
       "maximum_nights_avg_ntm                   0.0\n",
       "has_availability                         0.0\n",
       "availability_30                          0.0\n",
       "availability_60                          0.0"
      ]
     },
     "execution_count": 158,
     "metadata": {},
     "output_type": "execute_result"
    }
   ],
   "source": [
    "# Print preview\n",
    "get_null_percent_df(listings).head(10)"
   ]
  },
  {
   "cell_type": "markdown",
   "metadata": {
    "id": "srjHCeMukLK_"
   },
   "source": [
    "# Data Understanding"
   ]
  },
  {
   "cell_type": "markdown",
   "metadata": {},
   "source": [
    "Now that we have dealt with the null values and transformed the features needed, let's now do some analysis over our data, taking into account our target features: the price and the quality of the space, the last one represented by the review_scores_rating.\n",
    "\n",
    "Taking the histogram, it's possible to see two peaks in the review_scores_rating, one in the zero, related to the listings with no scores and to the ones that we filled the Null ones, and another one in the maximum value, which is 100.\n",
    "\n",
    "\n",
    "For the price, besides the mean and median is 57 and 90 respectively, in the box plot, we can see that a good part of our sample are way more than that, with some values like 100K and even more with 600K.\n",
    "\n",
    "\n",
    "Our goal will be to see all the possible(and significantly) correlations with our both target variables, some of the categorical features will be transformed into dummy variables for a better understanding of our data. Some other features like host verifications and amenities are given in the form of lists, so we will transform it into a bool matrix, representing which item we have per list."
   ]
  },
  {
   "cell_type": "code",
   "execution_count": 183,
   "metadata": {},
   "outputs": [
    {
     "name": "stdout",
     "output_type": "stream",
     "text": [
      "mean: 57.54 median: 90.0\n"
     ]
    },
    {
     "data": {
      "image/png": "[encoded data removed]",
      "text/plain": [
       "<Figure size 432x288 with 1 Axes>"
      ]
     },
     "metadata": {
      "needs_background": "light"
     },
     "output_type": "display_data"
    }
   ],
   "source": [
    "print(\"mean:\", np.round(listings[\"review_scores_rating\"].mean(),2)\n",
    "     , \"median:\", listings[\"review_scores_rating\"].median())\n",
    "\n",
    "listings[[\"review_scores_rating\"]].plot.hist(bins = 100)\n",
    "plt.xlabel(\"Review Scores\", fontsize = 18)\n",
    "plt.ylabel(\"Frequency\", fontsize = 18)\n",
    "plt.show()"
   ]
  },
  {
   "cell_type": "code",
   "execution_count": 184,
   "metadata": {},
   "outputs": [
    {
     "name": "stdout",
     "output_type": "stream",
     "text": [
      "mean: 727.74 median: 271.0\n"
     ]
    },
    {
     "data": {
      "image/png": "[encoded data removed]",
      "text/plain": [
       "<Figure size 432x288 with 1 Axes>"
      ]
     },
     "metadata": {
      "needs_background": "light"
     },
     "output_type": "display_data"
    }
   ],
   "source": [
    "print(\"mean:\", np.round(listings[\"price\"].mean(),2)\n",
    "     , \"median:\", listings[\"price\"].median())\n",
    "\n",
    "\n",
    "listings[[\"price\"]].boxplot()\n",
    "plt.show()"
   ]
  },
  {
   "cell_type": "markdown",
   "metadata": {
    "id": "Q64_1BI_kLK_"
   },
   "source": [
    "## Categorial Features"
   ]
  },
  {
   "cell_type": "markdown",
   "metadata": {},
   "source": [
    "Lets take all the columns that are represented as \"object\", or, categorical ones."
   ]
  },
  {
   "cell_type": "code",
   "execution_count": 161,
   "metadata": {
    "colab": {
     "base_uri": "https://localhost:8080/"
    },
    "id": "lNa06WkrkLLA",
    "outputId": "96cd2352-8d9b-4e25-c63a-2085b6111c4a"
   },
   "outputs": [
    {
     "name": "stdout",
     "output_type": "stream",
     "text": [
      "Index(['host_verifications', 'neighbourhood_cleansed', 'property_type',\n",
      "       'room_type', 'bathrooms_text', 'amenities'],\n",
      "      dtype='object')\n"
     ]
    }
   ],
   "source": [
    "# Print categorical features\n",
    "print(listings.select_dtypes(include=['object']).columns)"
   ]
  },
  {
   "cell_type": "markdown",
   "metadata": {
    "id": "_yernqg6kLLA"
   },
   "source": [
    "### Host Verifications"
   ]
  },
  {
   "cell_type": "markdown",
   "metadata": {},
   "source": [
    "First, we will take the number of host verification by listing, the ones possible are by government ID, facebook, gmail and others. Maybe there are some correlations with our targets, let's see?"
   ]
  },
  {
   "cell_type": "code",
   "execution_count": 162,
   "metadata": {
    "colab": {
     "base_uri": "https://localhost:8080/",
     "height": 136
    },
    "id": "rLXB1Vw4kLLA",
    "outputId": "d0125dbb-77a3-4c2b-b4fd-11ee06d0894a"
   },
   "outputs": [
    {
     "data": {
      "text/html": [
       "<div>\n",
       "<style scoped>\n",
       "    .dataframe tbody tr th:only-of-type {\n",
       "        vertical-align: middle;\n",
       "    }\n",
       "\n",
       "    .dataframe tbody tr th {\n",
       "        vertical-align: top;\n",
       "    }\n",
       "\n",
       "    .dataframe thead th {\n",
       "        text-align: right;\n",
       "    }\n",
       "</style>\n",
       "<table border=\"1\" class=\"dataframe\">\n",
       "  <thead>\n",
       "    <tr style=\"text-align: right;\">\n",
       "      <th></th>\n",
       "      <th>n_host_verifications</th>\n",
       "    </tr>\n",
       "  </thead>\n",
       "  <tbody>\n",
       "    <tr>\n",
       "      <th>0</th>\n",
       "      <td>7</td>\n",
       "    </tr>\n",
       "    <tr>\n",
       "      <th>1</th>\n",
       "      <td>4</td>\n",
       "    </tr>\n",
       "    <tr>\n",
       "      <th>2</th>\n",
       "      <td>7</td>\n",
       "    </tr>\n",
       "  </tbody>\n",
       "</table>\n",
       "</div>"
      ],
      "text/plain": [
       "   n_host_verifications\n",
       "0                     7\n",
       "1                     4\n",
       "2                     7"
      ]
     },
     "execution_count": 162,
     "metadata": {},
     "output_type": "execute_result"
    }
   ],
   "source": [
    "# Transform the strings in host_verification feature to lists\n",
    "listings[\"host_verifications\"] = listings[\"host_verifications\"].apply(string_to_list)\n",
    "\n",
    "# Count number of items in each list\n",
    "listings[\"n_host_verifications\"] = listings[\"host_verifications\"].apply(count_item)\n",
    "\n",
    "# Print a preview\n",
    "listings[[\"n_host_verifications\"]].head(3)"
   ]
  },
  {
   "cell_type": "code",
   "execution_count": 163,
   "metadata": {
    "colab": {
     "base_uri": "https://localhost:8080/",
     "height": 612
    },
    "id": "R2lIuUmekLLA",
    "outputId": "6f563b06-7571-4628-b316-f5fbf4939112"
   },
   "outputs": [
    {
     "data": {
      "image/png": "[encoded data removed]",
      "text/plain": [
       "<Figure size 720x720 with 2 Axes>"
      ]
     },
     "metadata": {
      "needs_background": "light"
     },
     "output_type": "display_data"
    }
   ],
   "source": [
    "# Set features that we want to predict\n",
    "y_features = [\"review_scores_rating\", \"price\"]\n",
    "\n",
    "# Create bool dataframe for the host_verifications feature\n",
    "host_veri_df = create_bool_dataframe(listings, feature = \"host_verifications\")\n",
    "\n",
    "# Get Correlation matrix between the values\n",
    "corr_host_veri = pd.concat([host_veri_df, listings[y_features]], axis = 1)\n",
    "corr_host_veri = corr_host_veri.corr()\n",
    "\n",
    "# Drop initial column from dataframe\n",
    "listings.drop(\"host_verifications\", axis = 1, inplace = True)\n",
    "\n",
    "# Print correlation plot\n",
    "plot_top_corr_y_features(corr_host_veri, y_features, 5)"
   ]
  },
  {
   "cell_type": "markdown",
   "metadata": {},
   "source": [
    "Seeing the heatmap of the top correlation, we can see that for the price the correlation is not so strong to infer something. However, for the review scores, we can see that there is a good correlation between the verifications related to the reviews, government IDs, and Jumio, a company for mobile payments and identity verification."
   ]
  },
  {
   "cell_type": "markdown",
   "metadata": {
    "id": "jSMcYRHxkLLA"
   },
   "source": [
    "### Amenities"
   ]
  },
  {
   "cell_type": "code",
   "execution_count": 164,
   "metadata": {
    "colab": {
     "base_uri": "https://localhost:8080/",
     "height": 136
    },
    "id": "OBks1W1KkLLB",
    "outputId": "2916f540-badc-42a7-de5c-ed67237ddeb8"
   },
   "outputs": [
    {
     "data": {
      "text/html": [
       "<div>\n",
       "<style scoped>\n",
       "    .dataframe tbody tr th:only-of-type {\n",
       "        vertical-align: middle;\n",
       "    }\n",
       "\n",
       "    .dataframe tbody tr th {\n",
       "        vertical-align: top;\n",
       "    }\n",
       "\n",
       "    .dataframe thead th {\n",
       "        text-align: right;\n",
       "    }\n",
       "</style>\n",
       "<table border=\"1\" class=\"dataframe\">\n",
       "  <thead>\n",
       "    <tr style=\"text-align: right;\">\n",
       "      <th></th>\n",
       "      <th>n_amenities</th>\n",
       "    </tr>\n",
       "  </thead>\n",
       "  <tbody>\n",
       "    <tr>\n",
       "      <th>0</th>\n",
       "      <td>26</td>\n",
       "    </tr>\n",
       "    <tr>\n",
       "      <th>1</th>\n",
       "      <td>12</td>\n",
       "    </tr>\n",
       "    <tr>\n",
       "      <th>2</th>\n",
       "      <td>28</td>\n",
       "    </tr>\n",
       "  </tbody>\n",
       "</table>\n",
       "</div>"
      ],
      "text/plain": [
       "   n_amenities\n",
       "0           26\n",
       "1           12\n",
       "2           28"
      ]
     },
     "execution_count": 164,
     "metadata": {},
     "output_type": "execute_result"
    }
   ],
   "source": [
    "# Transform strings to list\n",
    "listings[\"amenities\"] = listings[\"amenities\"].apply(amenities_to_list)\n",
    "\n",
    "# Count length of lists\n",
    "listings[\"n_amenities\"] = listings[\"amenities\"].apply(count_item)\n",
    "\n",
    "# Print preview\n",
    "listings[[\"n_amenities\"]].head(3)"
   ]
  },
  {
   "cell_type": "code",
   "execution_count": 165,
   "metadata": {
    "colab": {
     "base_uri": "https://localhost:8080/",
     "height": 612
    },
    "id": "WMb6yy-akLLB",
    "outputId": "c4839a80-5ffd-4519-8209-8c4c9ce1c1dd"
   },
   "outputs": [
    {
     "data": {
      "image/png": "[encoded data removed]",
      "text/plain": [
       "<Figure size 720x720 with 2 Axes>"
      ]
     },
     "metadata": {
      "needs_background": "light"
     },
     "output_type": "display_data"
    }
   ],
   "source": [
    "# Set list of features to analyze\n",
    "y_features = [\"review_scores_rating\", \"price\"]\n",
    "\n",
    "# Create bool dataframe\n",
    "ameni_df = create_bool_dataframe(listings, feature = \"amenities\")\n",
    "\n",
    "# Get correlation between features\n",
    "corr_ameni = pd.concat([ameni_df, listings[y_features]], axis = 1).corr()\n",
    "\n",
    "# Drop features\n",
    "listings.drop(\"amenities\", axis = 1, inplace = True)\n",
    "\n",
    "# Plot correlations\n",
    "plot_top_corr_y_features(corr_ameni, y_features, 15)"
   ]
  },
  {
   "cell_type": "markdown",
   "metadata": {},
   "source": [
    "Separating the amenities in a bool matrix, giving 0 for the items not included in the given listing and 1 for the presented ones, and using the heatmap of the top correlations again we can investigate the ones related to our targets. Seeing the images, we can see a clear of some amenities with the scores, the higher one related to kitchen items like dishes and silverware, refrigerator, cooking basics, hot water, and microwave, apparently, other services like the allowance of long term stay, host greeting, luggage drop off and free street parking is also services well correlational with good reviews.\n",
    "\n",
    "For the price, we can see a negative correlation for some of the kitchen items, that is, their presence can represent a good price for the host, services like long term stay allowed and paid parking off premises are also negatively correlated. For other services like pool and hot tub we can the inverse, how high, greater the price, the other one is the free parking on premises that is very positive correlated (seems like there is no free lunch)."
   ]
  },
  {
   "cell_type": "markdown",
   "metadata": {
    "id": "vQZuHYtEkLLB"
   },
   "source": [
    "### Neighbourhood"
   ]
  },
  {
   "cell_type": "code",
   "execution_count": 185,
   "metadata": {},
   "outputs": [
    {
     "data": {
      "image/png": "[encoded data removed]",
      "text/plain": [
       "<Figure size 432x288 with 1 Axes>"
      ]
     },
     "metadata": {
      "needs_background": "light"
     },
     "output_type": "display_data"
    }
   ],
   "source": [
    "group_df = listings[[\"neighbourhood_cleansed\", \"price\"]].groupby(\"neighbourhood_cleansed\").mean()\n",
    "\n",
    "group_df.sort_values(\"price\", ascending = False).head(10).plot.bar()\n",
    "plt.xlabel(\"Neighborhood\", fontsize = 18)\n",
    "plt.ylabel(\"Avg Price\", fontsize = 18)\n",
    "plt.show()"
   ]
  },
  {
   "cell_type": "code",
   "execution_count": 99,
   "metadata": {
    "colab": {
     "base_uri": "https://localhost:8080/",
     "height": 612
    },
    "id": "th_tC22GkLLB",
    "outputId": "78d4a62d-a12a-4e41-e43f-820310e162c4"
   },
   "outputs": [
    {
     "data": {
      "image/png": "[encoded data removed]",
      "text/plain": [
       "<Figure size 720x720 with 2 Axes>"
      ]
     },
     "metadata": {
      "needs_background": "light"
     },
     "output_type": "display_data"
    }
   ],
   "source": [
    "# Get dummies for neighbourhood\n",
    "dummies_neigh = pd.get_dummies(listings[\"neighbourhood_cleansed\"], prefix = \"neigh\"\n",
    "                                           , prefix_sep = \"_\", drop_first = True, dummy_na = True)\n",
    "\n",
    "# Get correlation between neighbourhood dummies and feature to analyze\n",
    "corr_neigh = pd.concat([dummies_neigh, listings[y_features]], axis = 1).corr()\n",
    "\n",
    "# Drop column\n",
    "listings.drop(\"neighbourhood_cleansed\", axis = 1, inplace = True)\n",
    "\n",
    "# Plot graphs\n",
    "plot_top_corr_y_features(corr_neigh, y_features, 10)"
   ]
  },
  {
   "cell_type": "markdown",
   "metadata": {},
   "source": [
    "An interesting fact that we can see by the correlation map of the neighborhood is that for the listing located at Copacabana and Ipanema, the scores are very positively correlated, the contrary for the rest of the locations. \n",
    "\n",
    "For the price, we can see that some of the neighborhoods are very positively correlated, which is confirmed with the bar plot, São Cristovão, Alto da Boa Vista and Joá are the ones with the higher average prices."
   ]
  },
  {
   "cell_type": "markdown",
   "metadata": {
    "id": "9CjFny4fkLLC"
   },
   "source": [
    "### Property Type"
   ]
  },
  {
   "cell_type": "code",
   "execution_count": 100,
   "metadata": {
    "colab": {
     "base_uri": "https://localhost:8080/",
     "height": 612
    },
    "id": "VomLPqgbkLLC",
    "outputId": "6ef140a4-f0a4-4889-8585-199b2a6689d2"
   },
   "outputs": [
    {
     "data": {
      "image/png": "[encoded data removed]",
      "text/plain": [
       "<Figure size 720x720 with 2 Axes>"
      ]
     },
     "metadata": {
      "needs_background": "light"
     },
     "output_type": "display_data"
    }
   ],
   "source": [
    "# Get dummies for property type\n",
    "dummies_propt = pd.get_dummies(listings[\"property_type\"], prefix = \"proptype\"\n",
    "                                           , prefix_sep = \"_\", drop_first = True, dummy_na = True)\n",
    "\n",
    "# Get correlation between dummies and features\n",
    "corr_propt = pd.concat([dummies_propt, listings[y_features]], axis = 1).corr()\n",
    "\n",
    "# Drop column\n",
    "listings.drop(\"property_type\", axis = 1, inplace = True)\n",
    "\n",
    "# Plot correlation\n",
    "plot_top_corr_y_features(corr_propt, y_features, 10)"
   ]
  },
  {
   "cell_type": "markdown",
   "metadata": {},
   "source": [
    "For property types, private room with breakfast, the entire house and, room in house, are the two ones most correlated with price. Seems also that the entire house, room in apartment/house leads to a bad experience, maybe related to the price. The contrary occurs with the entire apartment/loft/serviced apartment which are very correlated with the good review scores."
   ]
  },
  {
   "cell_type": "markdown",
   "metadata": {
    "id": "9ycgc0tTkLLC"
   },
   "source": [
    "### Room Type"
   ]
  },
  {
   "cell_type": "code",
   "execution_count": 101,
   "metadata": {
    "colab": {
     "base_uri": "https://localhost:8080/",
     "height": 612
    },
    "id": "gEmC_QZRkLLC",
    "outputId": "de209013-7b15-478e-d49f-fe87de783816"
   },
   "outputs": [
    {
     "data": {
      "image/png": "[encoded data removed]",
      "text/plain": [
       "<Figure size 720x720 with 2 Axes>"
      ]
     },
     "metadata": {
      "needs_background": "light"
     },
     "output_type": "display_data"
    }
   ],
   "source": [
    "# Get dummies for room type\n",
    "dummies_roomt = pd.get_dummies(listings[\"room_type\"], prefix = \"roomt\"\n",
    "                                           , prefix_sep = \"_\", drop_first = True, dummy_na = True)\n",
    "\n",
    "# Get correlation matrix between features and analyzed features\n",
    "corr_roomt = pd.concat([dummies_roomt, listings[y_features]], axis = 1).corr()\n",
    "\n",
    "# Drop column\n",
    "listings.drop(\"room_type\", axis = 1, inplace = True)\n",
    "\n",
    "# Plot correlations\n",
    "plot_top_corr_y_features(corr_roomt, y_features, 10)"
   ]
  },
  {
   "cell_type": "markdown",
   "metadata": {},
   "source": [
    "Save money maybe will not be the best option, private rooms are very correlated with cheap prices but at the same time, also with low review scores. Shared rooms are very correlated with bad experiences and also very expensive. Seems that maybe the best is to pay more for hotel rooms but have a good time."
   ]
  },
  {
   "cell_type": "markdown",
   "metadata": {
    "id": "zTeqUpEhkLLC"
   },
   "source": [
    "### Bathrooms "
   ]
  },
  {
   "cell_type": "code",
   "execution_count": 102,
   "metadata": {
    "colab": {
     "base_uri": "https://localhost:8080/",
     "height": 612
    },
    "id": "tRsFgnqIkLLC",
    "outputId": "e2bed4ce-8791-4bbf-8a74-a5d5ff0cd497"
   },
   "outputs": [
    {
     "data": {
      "image/png": "[encoded data removed]",
      "text/plain": [
       "<Figure size 720x720 with 2 Axes>"
      ]
     },
     "metadata": {
      "needs_background": "light"
     },
     "output_type": "display_data"
    }
   ],
   "source": [
    "# Get bathroom dummy variables\n",
    "dummies_bath = pd.get_dummies(listings[\"bathrooms_text\"], prefix = \"bath\"\n",
    "                                           , prefix_sep = \"_\", drop_first = True, dummy_na = True)\n",
    "\n",
    "# Get correlation matrix\n",
    "corr_bath = pd.concat([dummies_bath, listings[y_features]], axis = 1).corr()\n",
    "\n",
    "# Drop column\n",
    "listings.drop(\"bathrooms_text\", axis = 1, inplace = True)\n",
    "\n",
    "# Plot correlations\n",
    "plot_top_corr_y_features(corr_bath, y_features, 10)"
   ]
  },
  {
   "cell_type": "markdown",
   "metadata": {},
   "source": [
    "In doubt about how many bathrooms to choose? Take only one!\n",
    "The higher the number of bathrooms higher the price and this is not correlated with satisfaction, the lower the number higher the review score, the higher the number of bathrooms more negatively correlated with the score."
   ]
  },
  {
   "cell_type": "markdown",
   "metadata": {
    "id": "Z0UWpbLukLLC"
   },
   "source": [
    "### Host Response Time"
   ]
  },
  {
   "cell_type": "code",
   "execution_count": 103,
   "metadata": {
    "colab": {
     "base_uri": "https://localhost:8080/",
     "height": 612
    },
    "id": "BunRZt6UkLLD",
    "outputId": "d85e75f4-4d87-4c4c-ad01-76e18d1fe4e5"
   },
   "outputs": [
    {
     "data": {
      "image/png": "[encoded data removed]",
      "text/plain": [
       "<Figure size 720x720 with 2 Axes>"
      ]
     },
     "metadata": {
      "needs_background": "light"
     },
     "output_type": "display_data"
    }
   ],
   "source": [
    "# Get correlation between dummies hort response time and features in analysis\n",
    "corr_host_response_t = pd.concat([dummies_host_response_t, listings[y_features]], axis = 1)\n",
    "corr_host_response_t = corr_host_response_t.corr()\n",
    "\n",
    "# Plot correlation\n",
    "plot_top_corr_y_features(corr_host_response_t, y_features, 10)"
   ]
  },
  {
   "cell_type": "markdown",
   "metadata": {},
   "source": [
    "Something expected is that at the same time that hosts with fast response tend to receive better scores, the interesting fact here is that their price tends to be lower than the ones who delay doing so. "
   ]
  },
  {
   "cell_type": "markdown",
   "metadata": {
    "id": "uYndHxinkLLD"
   },
   "source": [
    "## Numeric Features"
   ]
  },
  {
   "cell_type": "code",
   "execution_count": 104,
   "metadata": {
    "colab": {
     "base_uri": "https://localhost:8080/",
     "height": 612
    },
    "id": "AKLOPYEykLLD",
    "outputId": "9fcdd20f-877b-4c70-e232-24d14511a64e"
   },
   "outputs": [
    {
     "data": {
      "image/png": "[encoded data removed]",
      "text/plain": [
       "<Figure size 720x720 with 2 Axes>"
      ]
     },
     "metadata": {
      "needs_background": "light"
     },
     "output_type": "display_data"
    }
   ],
   "source": [
    "# Get correlation between all numerical features in listings\n",
    "corr_without_cat = listings.corr()\n",
    "\n",
    "# Plot correlation\n",
    "plot_top_corr_y_features(corr_without_cat, y_features, 15)"
   ]
  },
  {
   "cell_type": "markdown",
   "metadata": {},
   "source": [
    "Practice makes perfect! Something interesting seeing the correlations with the numeric features is that the reviewing_days have the greatest correlation with the score, maybe time can help the hosts to improve their services and receive nice reviews.\n",
    "\n",
    "The host acceptance rate, host response rate, the number of amenities, and faster response time, are some of the highest positives correlations as well. Showing that the service provided by the host can change everything related to the quality and the experience, and these are changes that possibly any host can provide to improve their service.\n",
    "\n",
    "We can also see that the availability within a long period can represent something bad, weighing negatively over the score. Perhaps people fear that very empty places could represent something bad.\n",
    "\n",
    "For the price an interesting fact is that the same features that improve our reviews scores are the same that contribute with low prices, that is, places with good services are correlated with low prices. And also the contrary gives us some interesting information: pay more will not, necessarily, give you a good experience.\n",
    "\n",
    "The obvious also give us some information about the price, how greater the number of bedrooms, accommodates and beds, higher the price. If the host has more houses, this can also increase the price.\n"
   ]
  },
  {
   "cell_type": "markdown",
   "metadata": {
    "id": "g_IRZmuVkLLD"
   },
   "source": [
    "## All features + Categorical Dummies + Binary Encodings"
   ]
  },
  {
   "cell_type": "code",
   "execution_count": 105,
   "metadata": {
    "colab": {
     "base_uri": "https://localhost:8080/",
     "height": 612
    },
    "id": "b-o7MxbzkLLD",
    "outputId": "e8730bb7-21b2-4d68-b302-c826f52dd062"
   },
   "outputs": [
    {
     "data": {
      "image/png": "[encoded data removed]",
      "text/plain": [
       "<Figure size 720x720 with 2 Axes>"
      ]
     },
     "metadata": {
      "needs_background": "light"
     },
     "output_type": "display_data"
    }
   ],
   "source": [
    "# Create concatenation between all features \n",
    "new_listings = pd.concat([listings\n",
    "           , host_veri_df\n",
    "           , ameni_df\n",
    "           , dummies_neigh\n",
    "           , dummies_propt\n",
    "           , dummies_roomt\n",
    "           , dummies_bath], axis = 1)\n",
    "\n",
    "# Get correlation matrix\n",
    "corr_all_features = new_listings.corr()\n",
    "\n",
    "# Plot correlation\n",
    "plot_top_corr_y_features(corr_all_features, y_features, 25)"
   ]
  },
  {
   "cell_type": "markdown",
   "metadata": {},
   "source": [
    "When we analyze all the features that we have, the categorial in a dummy variable form, the numeric and the bool features, we practically reach in the same information that we got until now. \n",
    "\n",
    "The service provided by the host is very important, a number of verifications and amenities, the response time, response rate, and acceptance rate, brings some extra security for people, improving the experience and leading to good reviews.\n",
    "\n",
    "Also, kitchen items would improve a lot of the host experience, dish, and silverware, refrigerator, cooking basics, hot water, microwave, and stove are the items with the higher correlation with the reviews scores.\n",
    "\n",
    "At the same time, the locality, as São Cristovão, the number of bathrooms, bedrooms, and accommodates can lead to higher prices. Services that improve a lot the host experience like kitchen items and host-related are the ones related to decreasing the price."
   ]
  },
  {
   "cell_type": "markdown",
   "metadata": {
    "id": "0YthKXSrkLLD"
   },
   "source": [
    "# Modeling"
   ]
  },
  {
   "cell_type": "markdown",
   "metadata": {},
   "source": [
    "Now that we have some really good correlations, let's try to use a real machine learning model, as Xgboost, and see which features are more important for us.\n",
    "\n",
    "We will do it first for the \"review_scores_rating\" and then to the \"price\". First, we will separate 30% of our data for testing and 70% for the training. After that, we will use the grid search over the regression xgboost to search for the best hyperparameters for our model. With the parameters optimized, now it's time to train and test our model and see the relevance of each feature for us.\n",
    "\n",
    "Since we are using numeric values as the target, our evaluation metric will be the mean absolute error."
   ]
  },
  {
   "cell_type": "code",
   "execution_count": 4,
   "metadata": {
    "id": "iSxCrDvom3x2"
   },
   "outputs": [],
   "source": [
    "from xgboost import XGBRegressor\n",
    "import xgboost as xgb\n",
    "from sklearn.model_selection import train_test_split\n",
    "from sklearn.metrics import mean_absolute_error\n",
    "from sklearn.model_selection import GridSearchCV\n",
    "\n",
    "#listings.to_csv(\"new_listings.csv\", index = False)\n",
    "new_listings = pd.read_csv(\"new_listings.csv\")"
   ]
  },
  {
   "cell_type": "markdown",
   "metadata": {},
   "source": [
    "## Review Scores Rating"
   ]
  },
  {
   "cell_type": "markdown",
   "metadata": {},
   "source": [
    "The first thing that we need to do is to test our model with different parameters, in order to have the best combination of hyperparameters to be using. \n"
   ]
  },
  {
   "cell_type": "code",
   "execution_count": 5,
   "metadata": {
    "colab": {
     "base_uri": "https://localhost:8080/"
    },
    "id": "RsyZskR5kLLD",
    "outputId": "2edaf584-3d35-4fca-e335-88ca7ad1e684"
   },
   "outputs": [
    {
     "name": "stdout",
     "output_type": "stream",
     "text": [
      "Fitting 2 folds for each of 54 candidates, totalling 108 fits\n"
     ]
    },
    {
     "name": "stderr",
     "output_type": "stream",
     "text": [
      "[Parallel(n_jobs=-1)]: Using backend LokyBackend with 12 concurrent workers.\n",
      "[Parallel(n_jobs=-1)]: Done  26 tasks      | elapsed:  1.6min\n",
      "[Parallel(n_jobs=-1)]: Done 108 out of 108 | elapsed:  7.3min finished\n"
     ]
    },
    {
     "name": "stdout",
     "output_type": "stream",
     "text": [
      "-6.018975201188502\n",
      "{'colsample_bytree': 1.0, 'gamma': 5, 'max_depth': 4, 'min_child_weight': 1, 'subsample': 1.0}\n"
     ]
    }
   ],
   "source": [
    "y_features_rs = [\"review_scores_rating\"]\n",
    "\n",
    "y_rs = new_listings[y_features_rs]\n",
    "X_rs = new_listings.drop(y_features_rs, axis = 1)\n",
    "\n",
    "X_train_rs, X_test_rs, y_train_rs, y_test_rs = train_test_split(X_rs, y_rs, test_size = 0.3)\n",
    "\n",
    "params_rs = {\n",
    "        'min_child_weight': [1, 2, 3],\n",
    "        'gamma': [3, 5, 7],\n",
    "        'subsample': [0.9, 1.0],\n",
    "        'colsample_bytree': [1.0],\n",
    "        'max_depth': [4, 5, 6]\n",
    "}\n",
    "\n",
    "model_rs = GridSearchCV(XGBRegressor()\n",
    "                    , params_rs\n",
    "                    , cv = 2\n",
    "                    , n_jobs = -1\n",
    "                    , scoring = \"neg_mean_absolute_error\"\n",
    "                    , verbose = True)        \n",
    "\n",
    "model_rs.fit(X_train_rs, y_train_rs)\n",
    "\n",
    "print(model_rs.best_score_)\n",
    "print(model_rs.best_params_)\n"
   ]
  },
  {
   "cell_type": "markdown",
   "metadata": {},
   "source": [
    "## Price"
   ]
  },
  {
   "cell_type": "code",
   "execution_count": 6,
   "metadata": {},
   "outputs": [
    {
     "name": "stdout",
     "output_type": "stream",
     "text": [
      "Fitting 2 folds for each of 324 candidates, totalling 648 fits\n"
     ]
    },
    {
     "name": "stderr",
     "output_type": "stream",
     "text": [
      "[Parallel(n_jobs=-1)]: Using backend LokyBackend with 12 concurrent workers.\n",
      "[Parallel(n_jobs=-1)]: Done  26 tasks      | elapsed:   45.9s\n",
      "[Parallel(n_jobs=-1)]: Done 176 tasks      | elapsed:  6.0min\n",
      "[Parallel(n_jobs=-1)]: Done 426 tasks      | elapsed: 19.8min\n",
      "[Parallel(n_jobs=-1)]: Done 648 out of 648 | elapsed: 35.7min finished\n"
     ]
    },
    {
     "name": "stdout",
     "output_type": "stream",
     "text": [
      "-611.3614373061697\n",
      "{'colsample_bytree': 0.6, 'gamma': 0.5, 'max_depth': 6, 'min_child_weight': 1, 'subsample': 1.0}\n"
     ]
    }
   ],
   "source": [
    "y_features_p = [\"price\"]\n",
    "\n",
    "y_p = new_listings[y_features_p]\n",
    "X_p = new_listings.drop(y_features_p, axis = 1)\n",
    "\n",
    "X_train_p, X_test_p, y_train_p, y_test_p = train_test_split(X_p, y_p, test_size = 0.3)\n",
    "\n",
    "params_p = {\n",
    "        'min_child_weight': [1, 5, 10],\n",
    "        'gamma': [0.5, 1, 3, 5],\n",
    "        'subsample': [0.3, 0.6, 1.0],\n",
    "        'colsample_bytree': [0.3, 0.6, 1.0],\n",
    "        'max_depth': [3, 5, 6]\n",
    "}\n",
    "\n",
    "model_p = GridSearchCV(XGBRegressor()\n",
    "                    , params_p\n",
    "                    , cv = 2\n",
    "                    , n_jobs = -1\n",
    "                    , scoring = \"neg_mean_absolute_error\"\n",
    "                    , verbose = True)        \n",
    "\n",
    "model_p.fit(X_train_p, y_train_p)\n",
    "\n",
    "print(model_p.best_score_)\n",
    "print(model_p.best_params_)"
   ]
  },
  {
   "cell_type": "markdown",
   "metadata": {},
   "source": [
    "# Evaluating"
   ]
  },
  {
   "cell_type": "markdown",
   "metadata": {},
   "source": [
    "## Review Scores Rating"
   ]
  },
  {
   "cell_type": "code",
   "execution_count": 7,
   "metadata": {},
   "outputs": [
    {
     "name": "stdout",
     "output_type": "stream",
     "text": [
      "\n",
      "\n",
      " 5.82 % of MAE from a range of 100\n"
     ]
    }
   ],
   "source": [
    "model_rs = XGBRegressor(colsample_bytree = 1.0\n",
    "                     , gamma = 5\n",
    "                     , max_depth = 6\n",
    "                     , min_child_weight = 1\n",
    "                     , subsample = 1.0)\n",
    "\n",
    "model_rs.fit(X_train_rs, y_train_rs, eval_metric = \"mae\")\n",
    "\n",
    "y_predicted_rs = model_rs.predict(X_test_rs)\n",
    "\n",
    "error_mae_rs = mean_absolute_error(y_test_rs[\"review_scores_rating\"], y_predicted_rs)\n",
    "\n",
    "print(\"\\n\\n\", np.round(error_mae_rs * 100 \n",
    "            / (y_test_rs[\"review_scores_rating\"].max() - y_test_rs[\"review_scores_rating\"].min()), 2)\n",
    "              , \"% of MAE from a range of 100\")"
   ]
  },
  {
   "cell_type": "markdown",
   "metadata": {},
   "source": [
    "With the best combination, our model reached 5.82% of MAE for a range of 0 to 100, which it's not a big error and will be possible to get some good analysis."
   ]
  },
  {
   "cell_type": "markdown",
   "metadata": {},
   "source": [
    "## Price"
   ]
  },
  {
   "cell_type": "code",
   "execution_count": 9,
   "metadata": {},
   "outputs": [
    {
     "name": "stdout",
     "output_type": "stream",
     "text": [
      "\n",
      "\n",
      " 0.1 % of MAE from a range of 612045.0\n"
     ]
    }
   ],
   "source": [
    "model_p = XGBRegressor(colsample_bytree = 1.0\n",
    "                     , gamma = 5\n",
    "                     , max_depth = 6\n",
    "                     , min_child_weight = 1\n",
    "                     , subsample = 1.0)\n",
    "\n",
    "model_p.fit(X_train_p, y_train_p, eval_metric = \"mae\")\n",
    "\n",
    "y_predicted_p = model_p.predict(X_test_p)\n",
    "\n",
    "error_mae_p = mean_absolute_error(y_test_p[\"price\"], y_predicted_p)\n",
    "\n",
    "print(\"\\n\\n\", np.round(error_mae_p * 100 / (y_test_p[\"price\"].max() - y_test_p[\"price\"].min()), 2)\n",
    "      , \"% of MAE from a range of\", y_test_p[\"price\"].max() - y_test_p[\"price\"].min())\n"
   ]
  },
  {
   "cell_type": "markdown",
   "metadata": {},
   "source": [
    "0.1% of Mean Absolute Error (MAE), it's a very low error being possible to use this model over the testing dataset and extract some more information. "
   ]
  },
  {
   "cell_type": "markdown",
   "metadata": {
    "colab": {
     "base_uri": "https://localhost:8080/",
     "height": 379
    },
    "id": "FkbHEDBtx8W5",
    "outputId": "66025861-aa1a-49fc-9582-8e4c352255db"
   },
   "source": [
    "# Deployment"
   ]
  },
  {
   "cell_type": "markdown",
   "metadata": {},
   "source": [
    "## Review Scores Rating"
   ]
  },
  {
   "cell_type": "code",
   "execution_count": 13,
   "metadata": {},
   "outputs": [
    {
     "data": {
      "text/plain": [
       "[]"
      ]
     },
     "execution_count": 13,
     "metadata": {},
     "output_type": "execute_result"
    },
    {
     "data": {
      "image/png": "[encoded data removed]",
      "text/plain": [
       "<Figure size 432x288 with 1 Axes>"
      ]
     },
     "metadata": {
      "needs_background": "light"
     },
     "output_type": "display_data"
    }
   ],
   "source": [
    "xgb.plot_importance(model_rs\n",
    "                    , grid = False\n",
    "                    , max_num_features = 10\n",
    "                    , importance_type = \"weight\"\n",
    "                    , title = \"Feature Importance for \" + \"review_scores_rating\"\n",
    "                    , height = 0.9\n",
    "                    , xlabel = \"Importance\")\n",
    "plt.plot()"
   ]
  },
  {
   "cell_type": "markdown",
   "metadata": {},
   "source": [
    " Now let's see the importance of each feature for our model. \n",
    "\n",
    "Like we can see, for the review_scores_rating, the most important features are related to the position of the listing, the latitude and longitude, and actually this is very comprehensive since some of the neighborhood are very positive correlated with the scores, instead of the others that are negative.\n",
    "\n",
    "The time that the host are in the platform and receiving reviews, is also another important factor, it's possible that the host did important improvements over time that justify a good review. \n",
    "\n",
    "The number of amenities is also a important thing to see, and as we saw in the correlations with them, they are very important for the users' experience.\n",
    "\n",
    "Features associated with the service is also important, like the response and acceptance rate, the number of amenities and the time of the host response. Probably associated with the host commitment. "
   ]
  },
  {
   "cell_type": "markdown",
   "metadata": {},
   "source": [
    "## Price"
   ]
  },
  {
   "cell_type": "code",
   "execution_count": 12,
   "metadata": {},
   "outputs": [
    {
     "data": {
      "text/plain": [
       "[]"
      ]
     },
     "execution_count": 12,
     "metadata": {},
     "output_type": "execute_result"
    },
    {
     "data": {
      "image/png": "[encoded data removed]",
      "text/plain": [
       "<Figure size 432x288 with 1 Axes>"
      ]
     },
     "metadata": {
      "needs_background": "light"
     },
     "output_type": "display_data"
    }
   ],
   "source": [
    "\n",
    "xgb.plot_importance(model_p\n",
    "                    , grid = False\n",
    "                    , max_num_features = 10\n",
    "                    , importance_type = \"weight\"\n",
    "                    , title = \"Feature Importance for \" + \"price\"\n",
    "                    , height = 0.9\n",
    "                    , xlabel = \"Importance\")\n",
    "plt.plot()"
   ]
  },
  {
   "cell_type": "markdown",
   "metadata": {},
   "source": [
    "Starting with the latitude and longitude representing the location of the listing, this is not new for us since we already have seen a high correlation between some of the neighborhoods and the price. \n",
    "\n",
    "Related to the service we can see that the number of accommodates, bedrooms, beds, and amenities, are some of the greatest factors over the price, here we can't see if positive or negative, but as we saw in the correlations, some of the kitchen items are very associated with good scores and low prices, and for the number of rooms of the house, higher the number higher the price. This is acceptable since some of the services to receive more we will need to pay more."
   ]
  },
  {
   "cell_type": "markdown",
   "metadata": {},
   "source": [
    "## Conclusions "
   ]
  },
  {
   "cell_type": "markdown",
   "metadata": {},
   "source": [
    "### Are the amenities important for the host experience? If yes, which amenities are the most? Are these amenities correlated with the price?\n",
    "\n",
    "Yes, they are. As we can see in the correlations, the amenities have a high positive correlation with the review scores, above all, the kitchen items like dish and silverware, refrigerator, and cooking basics are the most important ones.\n",
    "\n",
    "Other amenities like long-term stay allowed, host greeting you, luggage drop off allowed and free street parking are some of the most appreciated services as well.\n",
    "\n",
    "An important factor to notice is the fact that these amenities that improve the host experience is the same that has a negative correlation with price, that is, the higher the number of good amenities included, the lower the price, which is awesome for the hosts! :)\n",
    "\n",
    "### Is the host a fundamental factor for the host experience? If yes, what can a host do to improve their services?\n",
    "Yes, they are, and a LOT!\n",
    "The number of host verifications is something very correlated with the scores, also, some of them are more than others like government ID and through the platform Jumio, being very comprehensive since we all search for secure locals to stay and this can be something that gives more security for the hosts.\n",
    "The response time is also a factor very correlated, the faster the response more correlated with the review score, and the more delayed, the more negatively correlated, seems that people tend to see with good eyes hosts committed to responding as soon as possible. \n",
    "The host acceptance/response rate, host be super host, and identity verified, are also some of the host-related features that can improve the service provided, again showing commitment by the hosts.\n",
    "\n",
    "So as we can see, if a host wants to improve their service, they need to give more security and be committed to the platform, do the maximum number of verifications, answer the hosts as faster as possible and have a good acceptance.\n",
    "\n",
    "\n",
    "### Is the neighborhood important for the price? If yes, which one is the most expensive? Are they correlated with the users' experience?\n",
    "Yes, they are.\n",
    "As we can see by the average neighborhood price, some of them like São Cristovão and Boa Vista, are some of the most expansive ones. Having a considerable correlation with price. Also, only two locations appear to deliver a good experience for the users, Copacabana and Ipanema, and actually, these are the two of the most famous and beautiful places to be in Rio de Janeiro.\n",
    "\n",
    "### Which feature influences more the price? And the review scores?\n",
    "\n",
    "Through our xgboost model, we can see that the position (latitude and longitude), the commitment of the host through a good acceptance/response rate, the number of amenities, and a nice response time are some of the most important features for the review scores.\n",
    "\n",
    "For the price, again the position is the most significant one, a fact confirmed by the average price by neighborhood, the number of accommodates, bedrooms, bathrooms, and beds are also very important, and as we saw in the correlations, the higher the number the higher the price. The number of amenities can also influence the price, as we saw before, places with kitchen basics tend to have low prices, and at the same time, deliver a good experience for the users and receiving nice reviews for it.\n",
    "\n",
    "\n",
    "### Conclusion\n",
    "\n",
    "For the end, have a nice kitchen will certainly surprise the hosts and deliver a very good experience for them. Also the commitment of the host is something that can change everything, answer hosts' questions and as soon as possible. And finally, choose wisely the number of rooms, this will certainly influence the price. :)"
   ]
  }
 ],
 "metadata": {
  "accelerator": "GPU",
  "colab": {
   "name": "Airbnb_Udacity_Project_1.ipynb",
   "provenance": []
  },
  "kernelspec": {
   "display_name": "Python 3",
   "language": "python",
   "name": "python3"
  },
  "language_info": {
   "codemirror_mode": {
    "name": "ipython",
    "version": 3
   },
   "file_extension": ".py",
   "mimetype": "text/x-python",
   "name": "python",
   "nbconvert_exporter": "python",
   "pygments_lexer": "ipython3",
   "version": "3.8.5"
  },
  "toc": {
   "base_numbering": 1,
   "nav_menu": {},
   "number_sections": true,
   "sideBar": true,
   "skip_h1_title": false,
   "title_cell": "Table of Contents",
   "title_sidebar": "Contents",
   "toc_cell": false,
   "toc_position": {},
   "toc_section_display": true,
   "toc_window_display": false
  }
 },
 "nbformat": 4,
 "nbformat_minor": 1
}
